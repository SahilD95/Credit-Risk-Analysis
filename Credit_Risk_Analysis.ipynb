{
  "nbformat": 4,
  "nbformat_minor": 0,
  "metadata": {
    "colab": {
      "provenance": [],
      "collapsed_sections": [],
      "authorship_tag": "ABX9TyMZAW832WM9cf2Fh6aeqfLv",
      "include_colab_link": true
    },
    "kernelspec": {
      "name": "python3",
      "display_name": "Python 3"
    },
    "language_info": {
      "name": "python"
    }
  },
  "cells": [
    {
      "cell_type": "markdown",
      "metadata": {
        "id": "view-in-github",
        "colab_type": "text"
      },
      "source": [
        "<a href=\"https://colab.research.google.com/github/SahilD95/Credit-Risk-Analysis/blob/main/Credit_Risk_Analysis.ipynb\" target=\"_parent\"><img src=\"https://colab.research.google.com/assets/colab-badge.svg\" alt=\"Open In Colab\"/></a>"
      ]
    },
    {
      "cell_type": "markdown",
      "source": [
        "![synergy-capital-credit-risk-analysis-and-underwriting.jpg](data:image/jpeg;base64,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)"
      ],
      "metadata": {
        "id": "ejtBx5H7PXRH"
      }
    },
    {
      "cell_type": "markdown",
      "source": [],
      "metadata": {
        "id": "-x3_npLcPe6T"
      }
    },
    {
      "cell_type": "code",
      "execution_count": 1,
      "metadata": {
        "id": "_YIy2AMzG2Y_"
      },
      "outputs": [],
      "source": [
        "import numpy as np\n",
        "import pandas as pd\n",
        "import matplotlib.pyplot as plt\n",
        "import seaborn as sns\n",
        "import sklearn.metrics as metrics\n",
        "\n",
        "\n",
        "import warnings\n",
        "warnings.filterwarnings('ignore')"
      ]
    },
    {
      "cell_type": "code",
      "source": [
        "from google.colab import drive\n",
        "drive.mount('/content/drive')"
      ],
      "metadata": {
        "colab": {
          "base_uri": "https://localhost:8080/"
        },
        "id": "_ezXqvZDG7dm",
        "outputId": "fe1eb246-0fec-4b2c-d557-9a6268aa090e"
      },
      "execution_count": 2,
      "outputs": [
        {
          "output_type": "stream",
          "name": "stdout",
          "text": [
            "Mounted at /content/drive\n"
          ]
        }
      ]
    },
    {
      "cell_type": "code",
      "source": [
        "Default = df = pd.read_csv(\"/content/drive/MyDrive/credit_risk.csv\")\n",
        "df.head()"
      ],
      "metadata": {
        "colab": {
          "base_uri": "https://localhost:8080/",
          "height": 206
        },
        "id": "JuDlARe6G9FH",
        "outputId": "dd1e4e38-bf89-463a-8ae9-080748e914f4"
      },
      "execution_count": 3,
      "outputs": [
        {
          "output_type": "execute_result",
          "data": {
            "text/plain": [
              "  default student      balance        income\n",
              "0      No      No   729.526495  44361.625074\n",
              "1      No     Yes   817.180407  12106.134700\n",
              "2      No      No  1073.549164  31767.138947\n",
              "3      No      No   529.250605  35704.493935\n",
              "4      No      No   785.655883  38463.495879"
            ],
            "text/html": [
              "\n",
              "  <div id=\"df-9edb07d6-197f-486f-8482-2e750c7c97a3\">\n",
              "    <div class=\"colab-df-container\">\n",
              "      <div>\n",
              "<style scoped>\n",
              "    .dataframe tbody tr th:only-of-type {\n",
              "        vertical-align: middle;\n",
              "    }\n",
              "\n",
              "    .dataframe tbody tr th {\n",
              "        vertical-align: top;\n",
              "    }\n",
              "\n",
              "    .dataframe thead th {\n",
              "        text-align: right;\n",
              "    }\n",
              "</style>\n",
              "<table border=\"1\" class=\"dataframe\">\n",
              "  <thead>\n",
              "    <tr style=\"text-align: right;\">\n",
              "      <th></th>\n",
              "      <th>default</th>\n",
              "      <th>student</th>\n",
              "      <th>balance</th>\n",
              "      <th>income</th>\n",
              "    </tr>\n",
              "  </thead>\n",
              "  <tbody>\n",
              "    <tr>\n",
              "      <th>0</th>\n",
              "      <td>No</td>\n",
              "      <td>No</td>\n",
              "      <td>729.526495</td>\n",
              "      <td>44361.625074</td>\n",
              "    </tr>\n",
              "    <tr>\n",
              "      <th>1</th>\n",
              "      <td>No</td>\n",
              "      <td>Yes</td>\n",
              "      <td>817.180407</td>\n",
              "      <td>12106.134700</td>\n",
              "    </tr>\n",
              "    <tr>\n",
              "      <th>2</th>\n",
              "      <td>No</td>\n",
              "      <td>No</td>\n",
              "      <td>1073.549164</td>\n",
              "      <td>31767.138947</td>\n",
              "    </tr>\n",
              "    <tr>\n",
              "      <th>3</th>\n",
              "      <td>No</td>\n",
              "      <td>No</td>\n",
              "      <td>529.250605</td>\n",
              "      <td>35704.493935</td>\n",
              "    </tr>\n",
              "    <tr>\n",
              "      <th>4</th>\n",
              "      <td>No</td>\n",
              "      <td>No</td>\n",
              "      <td>785.655883</td>\n",
              "      <td>38463.495879</td>\n",
              "    </tr>\n",
              "  </tbody>\n",
              "</table>\n",
              "</div>\n",
              "      <button class=\"colab-df-convert\" onclick=\"convertToInteractive('df-9edb07d6-197f-486f-8482-2e750c7c97a3')\"\n",
              "              title=\"Convert this dataframe to an interactive table.\"\n",
              "              style=\"display:none;\">\n",
              "        \n",
              "  <svg xmlns=\"http://www.w3.org/2000/svg\" height=\"24px\"viewBox=\"0 0 24 24\"\n",
              "       width=\"24px\">\n",
              "    <path d=\"M0 0h24v24H0V0z\" fill=\"none\"/>\n",
              "    <path d=\"M18.56 5.44l.94 2.06.94-2.06 2.06-.94-2.06-.94-.94-2.06-.94 2.06-2.06.94zm-11 1L8.5 8.5l.94-2.06 2.06-.94-2.06-.94L8.5 2.5l-.94 2.06-2.06.94zm10 10l.94 2.06.94-2.06 2.06-.94-2.06-.94-.94-2.06-.94 2.06-2.06.94z\"/><path d=\"M17.41 7.96l-1.37-1.37c-.4-.4-.92-.59-1.43-.59-.52 0-1.04.2-1.43.59L10.3 9.45l-7.72 7.72c-.78.78-.78 2.05 0 2.83L4 21.41c.39.39.9.59 1.41.59.51 0 1.02-.2 1.41-.59l7.78-7.78 2.81-2.81c.8-.78.8-2.07 0-2.86zM5.41 20L4 18.59l7.72-7.72 1.47 1.35L5.41 20z\"/>\n",
              "  </svg>\n",
              "      </button>\n",
              "      \n",
              "  <style>\n",
              "    .colab-df-container {\n",
              "      display:flex;\n",
              "      flex-wrap:wrap;\n",
              "      gap: 12px;\n",
              "    }\n",
              "\n",
              "    .colab-df-convert {\n",
              "      background-color: #E8F0FE;\n",
              "      border: none;\n",
              "      border-radius: 50%;\n",
              "      cursor: pointer;\n",
              "      display: none;\n",
              "      fill: #1967D2;\n",
              "      height: 32px;\n",
              "      padding: 0 0 0 0;\n",
              "      width: 32px;\n",
              "    }\n",
              "\n",
              "    .colab-df-convert:hover {\n",
              "      background-color: #E2EBFA;\n",
              "      box-shadow: 0px 1px 2px rgba(60, 64, 67, 0.3), 0px 1px 3px 1px rgba(60, 64, 67, 0.15);\n",
              "      fill: #174EA6;\n",
              "    }\n",
              "\n",
              "    [theme=dark] .colab-df-convert {\n",
              "      background-color: #3B4455;\n",
              "      fill: #D2E3FC;\n",
              "    }\n",
              "\n",
              "    [theme=dark] .colab-df-convert:hover {\n",
              "      background-color: #434B5C;\n",
              "      box-shadow: 0px 1px 3px 1px rgba(0, 0, 0, 0.15);\n",
              "      filter: drop-shadow(0px 1px 2px rgba(0, 0, 0, 0.3));\n",
              "      fill: #FFFFFF;\n",
              "    }\n",
              "  </style>\n",
              "\n",
              "      <script>\n",
              "        const buttonEl =\n",
              "          document.querySelector('#df-9edb07d6-197f-486f-8482-2e750c7c97a3 button.colab-df-convert');\n",
              "        buttonEl.style.display =\n",
              "          google.colab.kernel.accessAllowed ? 'block' : 'none';\n",
              "\n",
              "        async function convertToInteractive(key) {\n",
              "          const element = document.querySelector('#df-9edb07d6-197f-486f-8482-2e750c7c97a3');\n",
              "          const dataTable =\n",
              "            await google.colab.kernel.invokeFunction('convertToInteractive',\n",
              "                                                     [key], {});\n",
              "          if (!dataTable) return;\n",
              "\n",
              "          const docLinkHtml = 'Like what you see? Visit the ' +\n",
              "            '<a target=\"_blank\" href=https://colab.research.google.com/notebooks/data_table.ipynb>data table notebook</a>'\n",
              "            + ' to learn more about interactive tables.';\n",
              "          element.innerHTML = '';\n",
              "          dataTable['output_type'] = 'display_data';\n",
              "          await google.colab.output.renderOutput(dataTable, element);\n",
              "          const docLink = document.createElement('div');\n",
              "          docLink.innerHTML = docLinkHtml;\n",
              "          element.appendChild(docLink);\n",
              "        }\n",
              "      </script>\n",
              "    </div>\n",
              "  </div>\n",
              "  "
            ]
          },
          "metadata": {},
          "execution_count": 3
        }
      ]
    },
    {
      "cell_type": "code",
      "source": [
        "df.shape"
      ],
      "metadata": {
        "colab": {
          "base_uri": "https://localhost:8080/"
        },
        "id": "YZoOCNJ6G-0o",
        "outputId": "c097d5f6-db96-4199-c550-e48e706ab835"
      },
      "execution_count": 4,
      "outputs": [
        {
          "output_type": "execute_result",
          "data": {
            "text/plain": [
              "(10000, 4)"
            ]
          },
          "metadata": {},
          "execution_count": 4
        }
      ]
    },
    {
      "cell_type": "code",
      "source": [
        "plt.figure(figsize = (15,5))\n",
        "plt.subplot(1,2,1)\n",
        "sns.boxplot(y = df['balance'])\n",
        "\n",
        "plt.subplot(1,2,2)\n",
        "sns.boxplot(y = df['income'])\n",
        "plt.show()"
      ],
      "metadata": {
        "colab": {
          "base_uri": "https://localhost:8080/",
          "height": 306
        },
        "id": "mpnX9m0THAjH",
        "outputId": "4833ac15-898a-4e52-d1fb-64e11b589241"
      },
      "execution_count": 5,
      "outputs": [
        {
          "output_type": "display_data",
          "data": {
            "text/plain": [
              "<Figure size 1080x360 with 2 Axes>"
            ],
            "image/png": "[encoded data removed]"
          },
          "metadata": {
            "needs_background": "light"
          }
        }
      ]
    },
    {
      "cell_type": "code",
      "source": [
        "plt.figure(figsize=(15,5))\n",
        "plt.subplot(1,2,1)\n",
        "sns.countplot(y = df['student'])\n",
        "\n",
        "plt.subplot(1,2,2)\n",
        "sns.countplot(y = df['default'])\n",
        "plt.show()"
      ],
      "metadata": {
        "colab": {
          "base_uri": "https://localhost:8080/",
          "height": 334
        },
        "id": "3-cyYoGrHG2P",
        "outputId": "eb262d3a-fa16-47d7-ead3-d03f75dfb317"
      },
      "execution_count": 6,
      "outputs": [
        {
          "output_type": "display_data",
          "data": {
            "text/plain": [
              "<Figure size 1080x360 with 2 Axes>"
            ],
            "image/png": "[encoded data removed]"
          },
          "metadata": {
            "needs_background": "light"
          }
        }
      ]
    },
    {
      "cell_type": "code",
      "source": [
        "df['student'].value_counts()"
      ],
      "metadata": {
        "colab": {
          "base_uri": "https://localhost:8080/"
        },
        "id": "ITpkBepXHJSW",
        "outputId": "d9e67bd3-61c9-441e-ebf8-d9c8b526ea02"
      },
      "execution_count": 7,
      "outputs": [
        {
          "output_type": "execute_result",
          "data": {
            "text/plain": [
              "No     7056\n",
              "Yes    2944\n",
              "Name: student, dtype: int64"
            ]
          },
          "metadata": {},
          "execution_count": 7
        }
      ]
    },
    {
      "cell_type": "code",
      "source": [
        "df['default'].value_counts()"
      ],
      "metadata": {
        "colab": {
          "base_uri": "https://localhost:8080/"
        },
        "id": "PWMfRa2JHLaJ",
        "outputId": "aa385ad7-348a-44b2-9c8f-1e17f842b848"
      },
      "execution_count": 8,
      "outputs": [
        {
          "output_type": "execute_result",
          "data": {
            "text/plain": [
              "No     9667\n",
              "Yes     333\n",
              "Name: default, dtype: int64"
            ]
          },
          "metadata": {},
          "execution_count": 8
        }
      ]
    },
    {
      "cell_type": "code",
      "source": [
        "df['student'].value_counts(normalize = True)"
      ],
      "metadata": {
        "colab": {
          "base_uri": "https://localhost:8080/"
        },
        "id": "zkMtD1wYHNGP",
        "outputId": "adb73f53-ac36-42fc-aa9c-3992b3e169a0"
      },
      "execution_count": 9,
      "outputs": [
        {
          "output_type": "execute_result",
          "data": {
            "text/plain": [
              "No     0.7056\n",
              "Yes    0.2944\n",
              "Name: student, dtype: float64"
            ]
          },
          "metadata": {},
          "execution_count": 9
        }
      ]
    },
    {
      "cell_type": "code",
      "source": [
        "df['default'].value_counts(normalize = True)"
      ],
      "metadata": {
        "colab": {
          "base_uri": "https://localhost:8080/"
        },
        "id": "kUTsvlXQHOwB",
        "outputId": "c6777e68-1cb4-4d2b-c777-19e8a184c9fb"
      },
      "execution_count": 10,
      "outputs": [
        {
          "output_type": "execute_result",
          "data": {
            "text/plain": [
              "No     0.9667\n",
              "Yes    0.0333\n",
              "Name: default, dtype: float64"
            ]
          },
          "metadata": {},
          "execution_count": 10
        }
      ]
    },
    {
      "cell_type": "code",
      "source": [
        "plt.figure(figsize=(15,5))\n",
        "plt.subplot(1,2,1)\n",
        "sns.boxplot(df['default'], df['balance'])\n",
        "\n",
        "plt.subplot(1,2,2)\n",
        "sns.boxplot(df['default'], df['income'])\n",
        "plt.show()"
      ],
      "metadata": {
        "colab": {
          "base_uri": "https://localhost:8080/",
          "height": 334
        },
        "id": "-23AHsZvHQSe",
        "outputId": "1f87bf66-48cf-4482-ae37-218b423ed4c0"
      },
      "execution_count": 11,
      "outputs": [
        {
          "output_type": "display_data",
          "data": {
            "text/plain": [
              "<Figure size 1080x360 with 2 Axes>"
            ],
            "image/png": "[encoded data removed]"
          },
          "metadata": {
            "needs_background": "light"
          }
        }
      ]
    },
    {
      "cell_type": "code",
      "source": [
        "pd.crosstab(df['student'],df['default'], normalize = 'index').round(2)"
      ],
      "metadata": {
        "colab": {
          "base_uri": "https://localhost:8080/",
          "height": 143
        },
        "id": "cyk8UPf6HSMg",
        "outputId": "f8fa6748-46e9-4cee-ba75-0152a5223646"
      },
      "execution_count": 12,
      "outputs": [
        {
          "output_type": "execute_result",
          "data": {
            "text/plain": [
              "default    No   Yes\n",
              "student            \n",
              "No       0.97  0.03\n",
              "Yes      0.96  0.04"
            ],
            "text/html": [
              "\n",
              "  <div id=\"df-ca21905a-2e89-437f-823f-d7f7f1f41233\">\n",
              "    <div class=\"colab-df-container\">\n",
              "      <div>\n",
              "<style scoped>\n",
              "    .dataframe tbody tr th:only-of-type {\n",
              "        vertical-align: middle;\n",
              "    }\n",
              "\n",
              "    .dataframe tbody tr th {\n",
              "        vertical-align: top;\n",
              "    }\n",
              "\n",
              "    .dataframe thead th {\n",
              "        text-align: right;\n",
              "    }\n",
              "</style>\n",
              "<table border=\"1\" class=\"dataframe\">\n",
              "  <thead>\n",
              "    <tr style=\"text-align: right;\">\n",
              "      <th>default</th>\n",
              "      <th>No</th>\n",
              "      <th>Yes</th>\n",
              "    </tr>\n",
              "    <tr>\n",
              "      <th>student</th>\n",
              "      <th></th>\n",
              "      <th></th>\n",
              "    </tr>\n",
              "  </thead>\n",
              "  <tbody>\n",
              "    <tr>\n",
              "      <th>No</th>\n",
              "      <td>0.97</td>\n",
              "      <td>0.03</td>\n",
              "    </tr>\n",
              "    <tr>\n",
              "      <th>Yes</th>\n",
              "      <td>0.96</td>\n",
              "      <td>0.04</td>\n",
              "    </tr>\n",
              "  </tbody>\n",
              "</table>\n",
              "</div>\n",
              "      <button class=\"colab-df-convert\" onclick=\"convertToInteractive('df-ca21905a-2e89-437f-823f-d7f7f1f41233')\"\n",
              "              title=\"Convert this dataframe to an interactive table.\"\n",
              "              style=\"display:none;\">\n",
              "        \n",
              "  <svg xmlns=\"http://www.w3.org/2000/svg\" height=\"24px\"viewBox=\"0 0 24 24\"\n",
              "       width=\"24px\">\n",
              "    <path d=\"M0 0h24v24H0V0z\" fill=\"none\"/>\n",
              "    <path d=\"M18.56 5.44l.94 2.06.94-2.06 2.06-.94-2.06-.94-.94-2.06-.94 2.06-2.06.94zm-11 1L8.5 8.5l.94-2.06 2.06-.94-2.06-.94L8.5 2.5l-.94 2.06-2.06.94zm10 10l.94 2.06.94-2.06 2.06-.94-2.06-.94-.94-2.06-.94 2.06-2.06.94z\"/><path d=\"M17.41 7.96l-1.37-1.37c-.4-.4-.92-.59-1.43-.59-.52 0-1.04.2-1.43.59L10.3 9.45l-7.72 7.72c-.78.78-.78 2.05 0 2.83L4 21.41c.39.39.9.59 1.41.59.51 0 1.02-.2 1.41-.59l7.78-7.78 2.81-2.81c.8-.78.8-2.07 0-2.86zM5.41 20L4 18.59l7.72-7.72 1.47 1.35L5.41 20z\"/>\n",
              "  </svg>\n",
              "      </button>\n",
              "      \n",
              "  <style>\n",
              "    .colab-df-container {\n",
              "      display:flex;\n",
              "      flex-wrap:wrap;\n",
              "      gap: 12px;\n",
              "    }\n",
              "\n",
              "    .colab-df-convert {\n",
              "      background-color: #E8F0FE;\n",
              "      border: none;\n",
              "      border-radius: 50%;\n",
              "      cursor: pointer;\n",
              "      display: none;\n",
              "      fill: #1967D2;\n",
              "      height: 32px;\n",
              "      padding: 0 0 0 0;\n",
              "      width: 32px;\n",
              "    }\n",
              "\n",
              "    .colab-df-convert:hover {\n",
              "      background-color: #E2EBFA;\n",
              "      box-shadow: 0px 1px 2px rgba(60, 64, 67, 0.3), 0px 1px 3px 1px rgba(60, 64, 67, 0.15);\n",
              "      fill: #174EA6;\n",
              "    }\n",
              "\n",
              "    [theme=dark] .colab-df-convert {\n",
              "      background-color: #3B4455;\n",
              "      fill: #D2E3FC;\n",
              "    }\n",
              "\n",
              "    [theme=dark] .colab-df-convert:hover {\n",
              "      background-color: #434B5C;\n",
              "      box-shadow: 0px 1px 3px 1px rgba(0, 0, 0, 0.15);\n",
              "      filter: drop-shadow(0px 1px 2px rgba(0, 0, 0, 0.3));\n",
              "      fill: #FFFFFF;\n",
              "    }\n",
              "  </style>\n",
              "\n",
              "      <script>\n",
              "        const buttonEl =\n",
              "          document.querySelector('#df-ca21905a-2e89-437f-823f-d7f7f1f41233 button.colab-df-convert');\n",
              "        buttonEl.style.display =\n",
              "          google.colab.kernel.accessAllowed ? 'block' : 'none';\n",
              "\n",
              "        async function convertToInteractive(key) {\n",
              "          const element = document.querySelector('#df-ca21905a-2e89-437f-823f-d7f7f1f41233');\n",
              "          const dataTable =\n",
              "            await google.colab.kernel.invokeFunction('convertToInteractive',\n",
              "                                                     [key], {});\n",
              "          if (!dataTable) return;\n",
              "\n",
              "          const docLinkHtml = 'Like what you see? Visit the ' +\n",
              "            '<a target=\"_blank\" href=https://colab.research.google.com/notebooks/data_table.ipynb>data table notebook</a>'\n",
              "            + ' to learn more about interactive tables.';\n",
              "          element.innerHTML = '';\n",
              "          dataTable['output_type'] = 'display_data';\n",
              "          await google.colab.output.renderOutput(dataTable, element);\n",
              "          const docLink = document.createElement('div');\n",
              "          docLink.innerHTML = docLinkHtml;\n",
              "          element.appendChild(docLink);\n",
              "        }\n",
              "      </script>\n",
              "    </div>\n",
              "  </div>\n",
              "  "
            ]
          },
          "metadata": {},
          "execution_count": 12
        }
      ]
    },
    {
      "cell_type": "code",
      "source": [
        "sns.heatmap(df[['balance', 'income']].corr(), annot = True)"
      ],
      "metadata": {
        "colab": {
          "base_uri": "https://localhost:8080/",
          "height": 286
        },
        "id": "ldvh3BTTHUBs",
        "outputId": "5111ba1b-117a-49ff-bf97-23dc3279fa86"
      },
      "execution_count": 13,
      "outputs": [
        {
          "output_type": "execute_result",
          "data": {
            "text/plain": [
              "<matplotlib.axes._subplots.AxesSubplot at 0x7fd4dd66bdd0>"
            ]
          },
          "metadata": {},
          "execution_count": 13
        },
        {
          "output_type": "display_data",
          "data": {
            "text/plain": [
              "<Figure size 432x288 with 2 Axes>"
            ],
            "image/png": "[encoded data removed]"
          },
          "metadata": {
            "needs_background": "light"
          }
        }
      ]
    },
    {
      "cell_type": "code",
      "source": [
        "df.isnull().sum()"
      ],
      "metadata": {
        "colab": {
          "base_uri": "https://localhost:8080/"
        },
        "id": "MYO5ZdhFHVxp",
        "outputId": "b06f5e35-1d6d-455e-e612-9fc4a9dc72fc"
      },
      "execution_count": 14,
      "outputs": [
        {
          "output_type": "execute_result",
          "data": {
            "text/plain": [
              "default    0\n",
              "student    0\n",
              "balance    0\n",
              "income     0\n",
              "dtype: int64"
            ]
          },
          "metadata": {},
          "execution_count": 14
        }
      ]
    },
    {
      "cell_type": "code",
      "source": [
        "Q1, Q3 = df['balance'].quantile([0.25,0.75])\n",
        "IQR = Q3 - Q1\n",
        "LL = Q1 - 1.5*(IQR)\n",
        "UL = Q3 + 1.5*(IQR)"
      ],
      "metadata": {
        "id": "OVj3qScVHXgY"
      },
      "execution_count": 15,
      "outputs": []
    },
    {
      "cell_type": "code",
      "source": [
        "UL"
      ],
      "metadata": {
        "colab": {
          "base_uri": "https://localhost:8080/"
        },
        "id": "F0fMSdJMHZLZ",
        "outputId": "8db766f8-d2bf-489f-c8e1-82ac507a672d"
      },
      "execution_count": 16,
      "outputs": [
        {
          "output_type": "execute_result",
          "data": {
            "text/plain": [
              "2193.174308607817"
            ]
          },
          "metadata": {},
          "execution_count": 16
        }
      ]
    },
    {
      "cell_type": "code",
      "source": [
        "df1 = Default[Default['balance']>UL]"
      ],
      "metadata": {
        "id": "hsZWczkaHavN"
      },
      "execution_count": 17,
      "outputs": []
    },
    {
      "cell_type": "code",
      "source": [
        "df1"
      ],
      "metadata": {
        "colab": {
          "base_uri": "https://localhost:8080/",
          "height": 1000
        },
        "id": "Vp4dOtF7HcZv",
        "outputId": "61d050b3-9adf-40b0-9854-a9dc2f5b65c3"
      },
      "execution_count": 18,
      "outputs": [
        {
          "output_type": "execute_result",
          "data": {
            "text/plain": [
              "     default student      balance        income\n",
              "173      Yes     Yes  2205.799521  14271.492253\n",
              "1136     Yes      No  2499.016750  51504.293960\n",
              "1160     Yes     Yes  2502.684931  14947.519752\n",
              "1359     Yes      No  2220.966201  40725.096207\n",
              "1502     Yes     Yes  2332.878254  11770.234124\n",
              "1609     Yes     Yes  2269.946966  18021.105948\n",
              "2096     Yes     Yes  2261.848162  20030.165119\n",
              "2140      No     Yes  2308.893236  19110.266412\n",
              "2929     Yes     Yes  2387.314867  28296.914718\n",
              "3162     Yes     Yes  2415.316994  17429.503375\n",
              "3189     Yes      No  2228.472283  27438.348988\n",
              "3702      No     Yes  2370.463612  24251.958722\n",
              "3855     Yes     Yes  2321.882221  21331.314781\n",
              "3913     Yes     Yes  2334.123559  19335.889287\n",
              "3976      No     Yes  2388.174009   7832.135644\n",
              "4060     Yes     Yes  2216.017669  20911.695635\n",
              "4231     Yes     Yes  2291.617688  20837.209447\n",
              "4831      No     Yes  2216.329753  24737.081761\n",
              "5461     Yes     Yes  2247.421889  17926.723014\n",
              "6075     Yes      No  2413.319449  38540.572705\n",
              "6334     Yes      No  2343.797513  51095.293929\n",
              "6882     Yes     Yes  2287.173842  18692.144311\n",
              "7437     Yes     Yes  2461.506979  11878.557045\n",
              "7815     Yes     Yes  2578.469022  25706.647774\n",
              "8264     Yes      No  2236.764215  37113.883070\n",
              "8495     Yes     Yes  2654.322576  21930.388879\n",
              "8832     Yes     Yes  2207.599054  19780.763519\n",
              "8992     Yes     Yes  2352.054949  24067.548104\n",
              "9873      No      No  2391.007739  50302.909557\n",
              "9893     Yes      No  2288.408082  52043.569052\n",
              "9978     Yes      No  2202.462395  47287.257108"
            ],
            "text/html": [
              "\n",
              "  <div id=\"df-45be50b7-a83b-4576-98e7-6b5e4a0dfcb4\">\n",
              "    <div class=\"colab-df-container\">\n",
              "      <div>\n",
              "<style scoped>\n",
              "    .dataframe tbody tr th:only-of-type {\n",
              "        vertical-align: middle;\n",
              "    }\n",
              "\n",
              "    .dataframe tbody tr th {\n",
              "        vertical-align: top;\n",
              "    }\n",
              "\n",
              "    .dataframe thead th {\n",
              "        text-align: right;\n",
              "    }\n",
              "</style>\n",
              "<table border=\"1\" class=\"dataframe\">\n",
              "  <thead>\n",
              "    <tr style=\"text-align: right;\">\n",
              "      <th></th>\n",
              "      <th>default</th>\n",
              "      <th>student</th>\n",
              "      <th>balance</th>\n",
              "      <th>income</th>\n",
              "    </tr>\n",
              "  </thead>\n",
              "  <tbody>\n",
              "    <tr>\n",
              "      <th>173</th>\n",
              "      <td>Yes</td>\n",
              "      <td>Yes</td>\n",
              "      <td>2205.799521</td>\n",
              "      <td>14271.492253</td>\n",
              "    </tr>\n",
              "    <tr>\n",
              "      <th>1136</th>\n",
              "      <td>Yes</td>\n",
              "      <td>No</td>\n",
              "      <td>2499.016750</td>\n",
              "      <td>51504.293960</td>\n",
              "    </tr>\n",
              "    <tr>\n",
              "      <th>1160</th>\n",
              "      <td>Yes</td>\n",
              "      <td>Yes</td>\n",
              "      <td>2502.684931</td>\n",
              "      <td>14947.519752</td>\n",
              "    </tr>\n",
              "    <tr>\n",
              "      <th>1359</th>\n",
              "      <td>Yes</td>\n",
              "      <td>No</td>\n",
              "      <td>2220.966201</td>\n",
              "      <td>40725.096207</td>\n",
              "    </tr>\n",
              "    <tr>\n",
              "      <th>1502</th>\n",
              "      <td>Yes</td>\n",
              "      <td>Yes</td>\n",
              "      <td>2332.878254</td>\n",
              "      <td>11770.234124</td>\n",
              "    </tr>\n",
              "    <tr>\n",
              "      <th>1609</th>\n",
              "      <td>Yes</td>\n",
              "      <td>Yes</td>\n",
              "      <td>2269.946966</td>\n",
              "      <td>18021.105948</td>\n",
              "    </tr>\n",
              "    <tr>\n",
              "      <th>2096</th>\n",
              "      <td>Yes</td>\n",
              "      <td>Yes</td>\n",
              "      <td>2261.848162</td>\n",
              "      <td>20030.165119</td>\n",
              "    </tr>\n",
              "    <tr>\n",
              "      <th>2140</th>\n",
              "      <td>No</td>\n",
              "      <td>Yes</td>\n",
              "      <td>2308.893236</td>\n",
              "      <td>19110.266412</td>\n",
              "    </tr>\n",
              "    <tr>\n",
              "      <th>2929</th>\n",
              "      <td>Yes</td>\n",
              "      <td>Yes</td>\n",
              "      <td>2387.314867</td>\n",
              "      <td>28296.914718</td>\n",
              "    </tr>\n",
              "    <tr>\n",
              "      <th>3162</th>\n",
              "      <td>Yes</td>\n",
              "      <td>Yes</td>\n",
              "      <td>2415.316994</td>\n",
              "      <td>17429.503375</td>\n",
              "    </tr>\n",
              "    <tr>\n",
              "      <th>3189</th>\n",
              "      <td>Yes</td>\n",
              "      <td>No</td>\n",
              "      <td>2228.472283</td>\n",
              "      <td>27438.348988</td>\n",
              "    </tr>\n",
              "    <tr>\n",
              "      <th>3702</th>\n",
              "      <td>No</td>\n",
              "      <td>Yes</td>\n",
              "      <td>2370.463612</td>\n",
              "      <td>24251.958722</td>\n",
              "    </tr>\n",
              "    <tr>\n",
              "      <th>3855</th>\n",
              "      <td>Yes</td>\n",
              "      <td>Yes</td>\n",
              "      <td>2321.882221</td>\n",
              "      <td>21331.314781</td>\n",
              "    </tr>\n",
              "    <tr>\n",
              "      <th>3913</th>\n",
              "      <td>Yes</td>\n",
              "      <td>Yes</td>\n",
              "      <td>2334.123559</td>\n",
              "      <td>19335.889287</td>\n",
              "    </tr>\n",
              "    <tr>\n",
              "      <th>3976</th>\n",
              "      <td>No</td>\n",
              "      <td>Yes</td>\n",
              "      <td>2388.174009</td>\n",
              "      <td>7832.135644</td>\n",
              "    </tr>\n",
              "    <tr>\n",
              "      <th>4060</th>\n",
              "      <td>Yes</td>\n",
              "      <td>Yes</td>\n",
              "      <td>2216.017669</td>\n",
              "      <td>20911.695635</td>\n",
              "    </tr>\n",
              "    <tr>\n",
              "      <th>4231</th>\n",
              "      <td>Yes</td>\n",
              "      <td>Yes</td>\n",
              "      <td>2291.617688</td>\n",
              "      <td>20837.209447</td>\n",
              "    </tr>\n",
              "    <tr>\n",
              "      <th>4831</th>\n",
              "      <td>No</td>\n",
              "      <td>Yes</td>\n",
              "      <td>2216.329753</td>\n",
              "      <td>24737.081761</td>\n",
              "    </tr>\n",
              "    <tr>\n",
              "      <th>5461</th>\n",
              "      <td>Yes</td>\n",
              "      <td>Yes</td>\n",
              "      <td>2247.421889</td>\n",
              "      <td>17926.723014</td>\n",
              "    </tr>\n",
              "    <tr>\n",
              "      <th>6075</th>\n",
              "      <td>Yes</td>\n",
              "      <td>No</td>\n",
              "      <td>2413.319449</td>\n",
              "      <td>38540.572705</td>\n",
              "    </tr>\n",
              "    <tr>\n",
              "      <th>6334</th>\n",
              "      <td>Yes</td>\n",
              "      <td>No</td>\n",
              "      <td>2343.797513</td>\n",
              "      <td>51095.293929</td>\n",
              "    </tr>\n",
              "    <tr>\n",
              "      <th>6882</th>\n",
              "      <td>Yes</td>\n",
              "      <td>Yes</td>\n",
              "      <td>2287.173842</td>\n",
              "      <td>18692.144311</td>\n",
              "    </tr>\n",
              "    <tr>\n",
              "      <th>7437</th>\n",
              "      <td>Yes</td>\n",
              "      <td>Yes</td>\n",
              "      <td>2461.506979</td>\n",
              "      <td>11878.557045</td>\n",
              "    </tr>\n",
              "    <tr>\n",
              "      <th>7815</th>\n",
              "      <td>Yes</td>\n",
              "      <td>Yes</td>\n",
              "      <td>2578.469022</td>\n",
              "      <td>25706.647774</td>\n",
              "    </tr>\n",
              "    <tr>\n",
              "      <th>8264</th>\n",
              "      <td>Yes</td>\n",
              "      <td>No</td>\n",
              "      <td>2236.764215</td>\n",
              "      <td>37113.883070</td>\n",
              "    </tr>\n",
              "    <tr>\n",
              "      <th>8495</th>\n",
              "      <td>Yes</td>\n",
              "      <td>Yes</td>\n",
              "      <td>2654.322576</td>\n",
              "      <td>21930.388879</td>\n",
              "    </tr>\n",
              "    <tr>\n",
              "      <th>8832</th>\n",
              "      <td>Yes</td>\n",
              "      <td>Yes</td>\n",
              "      <td>2207.599054</td>\n",
              "      <td>19780.763519</td>\n",
              "    </tr>\n",
              "    <tr>\n",
              "      <th>8992</th>\n",
              "      <td>Yes</td>\n",
              "      <td>Yes</td>\n",
              "      <td>2352.054949</td>\n",
              "      <td>24067.548104</td>\n",
              "    </tr>\n",
              "    <tr>\n",
              "      <th>9873</th>\n",
              "      <td>No</td>\n",
              "      <td>No</td>\n",
              "      <td>2391.007739</td>\n",
              "      <td>50302.909557</td>\n",
              "    </tr>\n",
              "    <tr>\n",
              "      <th>9893</th>\n",
              "      <td>Yes</td>\n",
              "      <td>No</td>\n",
              "      <td>2288.408082</td>\n",
              "      <td>52043.569052</td>\n",
              "    </tr>\n",
              "    <tr>\n",
              "      <th>9978</th>\n",
              "      <td>Yes</td>\n",
              "      <td>No</td>\n",
              "      <td>2202.462395</td>\n",
              "      <td>47287.257108</td>\n",
              "    </tr>\n",
              "  </tbody>\n",
              "</table>\n",
              "</div>\n",
              "      <button class=\"colab-df-convert\" onclick=\"convertToInteractive('df-45be50b7-a83b-4576-98e7-6b5e4a0dfcb4')\"\n",
              "              title=\"Convert this dataframe to an interactive table.\"\n",
              "              style=\"display:none;\">\n",
              "        \n",
              "  <svg xmlns=\"http://www.w3.org/2000/svg\" height=\"24px\"viewBox=\"0 0 24 24\"\n",
              "       width=\"24px\">\n",
              "    <path d=\"M0 0h24v24H0V0z\" fill=\"none\"/>\n",
              "    <path d=\"M18.56 5.44l.94 2.06.94-2.06 2.06-.94-2.06-.94-.94-2.06-.94 2.06-2.06.94zm-11 1L8.5 8.5l.94-2.06 2.06-.94-2.06-.94L8.5 2.5l-.94 2.06-2.06.94zm10 10l.94 2.06.94-2.06 2.06-.94-2.06-.94-.94-2.06-.94 2.06-2.06.94z\"/><path d=\"M17.41 7.96l-1.37-1.37c-.4-.4-.92-.59-1.43-.59-.52 0-1.04.2-1.43.59L10.3 9.45l-7.72 7.72c-.78.78-.78 2.05 0 2.83L4 21.41c.39.39.9.59 1.41.59.51 0 1.02-.2 1.41-.59l7.78-7.78 2.81-2.81c.8-.78.8-2.07 0-2.86zM5.41 20L4 18.59l7.72-7.72 1.47 1.35L5.41 20z\"/>\n",
              "  </svg>\n",
              "      </button>\n",
              "      \n",
              "  <style>\n",
              "    .colab-df-container {\n",
              "      display:flex;\n",
              "      flex-wrap:wrap;\n",
              "      gap: 12px;\n",
              "    }\n",
              "\n",
              "    .colab-df-convert {\n",
              "      background-color: #E8F0FE;\n",
              "      border: none;\n",
              "      border-radius: 50%;\n",
              "      cursor: pointer;\n",
              "      display: none;\n",
              "      fill: #1967D2;\n",
              "      height: 32px;\n",
              "      padding: 0 0 0 0;\n",
              "      width: 32px;\n",
              "    }\n",
              "\n",
              "    .colab-df-convert:hover {\n",
              "      background-color: #E2EBFA;\n",
              "      box-shadow: 0px 1px 2px rgba(60, 64, 67, 0.3), 0px 1px 3px 1px rgba(60, 64, 67, 0.15);\n",
              "      fill: #174EA6;\n",
              "    }\n",
              "\n",
              "    [theme=dark] .colab-df-convert {\n",
              "      background-color: #3B4455;\n",
              "      fill: #D2E3FC;\n",
              "    }\n",
              "\n",
              "    [theme=dark] .colab-df-convert:hover {\n",
              "      background-color: #434B5C;\n",
              "      box-shadow: 0px 1px 3px 1px rgba(0, 0, 0, 0.15);\n",
              "      filter: drop-shadow(0px 1px 2px rgba(0, 0, 0, 0.3));\n",
              "      fill: #FFFFFF;\n",
              "    }\n",
              "  </style>\n",
              "\n",
              "      <script>\n",
              "        const buttonEl =\n",
              "          document.querySelector('#df-45be50b7-a83b-4576-98e7-6b5e4a0dfcb4 button.colab-df-convert');\n",
              "        buttonEl.style.display =\n",
              "          google.colab.kernel.accessAllowed ? 'block' : 'none';\n",
              "\n",
              "        async function convertToInteractive(key) {\n",
              "          const element = document.querySelector('#df-45be50b7-a83b-4576-98e7-6b5e4a0dfcb4');\n",
              "          const dataTable =\n",
              "            await google.colab.kernel.invokeFunction('convertToInteractive',\n",
              "                                                     [key], {});\n",
              "          if (!dataTable) return;\n",
              "\n",
              "          const docLinkHtml = 'Like what you see? Visit the ' +\n",
              "            '<a target=\"_blank\" href=https://colab.research.google.com/notebooks/data_table.ipynb>data table notebook</a>'\n",
              "            + ' to learn more about interactive tables.';\n",
              "          element.innerHTML = '';\n",
              "          dataTable['output_type'] = 'display_data';\n",
              "          await google.colab.output.renderOutput(dataTable, element);\n",
              "          const docLink = document.createElement('div');\n",
              "          docLink.innerHTML = docLinkHtml;\n",
              "          element.appendChild(docLink);\n",
              "        }\n",
              "      </script>\n",
              "    </div>\n",
              "  </div>\n",
              "  "
            ]
          },
          "metadata": {},
          "execution_count": 18
        }
      ]
    },
    {
      "cell_type": "code",
      "source": [
        "df1['default'].count()"
      ],
      "metadata": {
        "colab": {
          "base_uri": "https://localhost:8080/"
        },
        "id": "Z1Qf8CJyHd_7",
        "outputId": "6fe7382d-dadf-46ef-c2ec-d5568e3af5d6"
      },
      "execution_count": 19,
      "outputs": [
        {
          "output_type": "execute_result",
          "data": {
            "text/plain": [
              "31"
            ]
          },
          "metadata": {},
          "execution_count": 19
        }
      ]
    },
    {
      "cell_type": "code",
      "source": [
        "df1['default'].value_counts(normalize = True)"
      ],
      "metadata": {
        "colab": {
          "base_uri": "https://localhost:8080/"
        },
        "id": "niDcr5EEHgQC",
        "outputId": "1596a60e-25cd-4676-a54b-1cb63938c1d3"
      },
      "execution_count": 20,
      "outputs": [
        {
          "output_type": "execute_result",
          "data": {
            "text/plain": [
              "Yes    0.83871\n",
              "No     0.16129\n",
              "Name: default, dtype: float64"
            ]
          },
          "metadata": {},
          "execution_count": 20
        }
      ]
    },
    {
      "cell_type": "code",
      "source": [
        "df1['default'].value_counts()"
      ],
      "metadata": {
        "colab": {
          "base_uri": "https://localhost:8080/"
        },
        "id": "8Sf-JsfIHh4G",
        "outputId": "0a5258ed-78f2-4b76-c339-cf72db54a468"
      },
      "execution_count": 21,
      "outputs": [
        {
          "output_type": "execute_result",
          "data": {
            "text/plain": [
              "Yes    26\n",
              "No      5\n",
              "Name: default, dtype: int64"
            ]
          },
          "metadata": {},
          "execution_count": 21
        }
      ]
    },
    {
      "cell_type": "code",
      "source": [
        "df['balance'] = np.where(df['balance'] > UL, UL, df['balance'] )"
      ],
      "metadata": {
        "id": "K0OM5UjfHjTU"
      },
      "execution_count": 22,
      "outputs": []
    },
    {
      "cell_type": "code",
      "source": [
        "sns.boxplot(y = df['balance'])\n",
        "plt.show()"
      ],
      "metadata": {
        "colab": {
          "base_uri": "https://localhost:8080/",
          "height": 252
        },
        "id": "AEds_5wcHlCB",
        "outputId": "1a1215e2-dab1-4732-fafa-465adeb035a4"
      },
      "execution_count": 23,
      "outputs": [
        {
          "output_type": "display_data",
          "data": {
            "text/plain": [
              "<Figure size 432x288 with 1 Axes>"
            ],
            "image/png": "[encoded data removed]"
          },
          "metadata": {
            "needs_background": "light"
          }
        }
      ]
    },
    {
      "cell_type": "code",
      "source": [
        "df = pd.get_dummies(df, drop_first = True)"
      ],
      "metadata": {
        "id": "ttrTeyGwHm6-"
      },
      "execution_count": 34,
      "outputs": []
    },
    {
      "cell_type": "code",
      "source": [
        "df.head()"
      ],
      "metadata": {
        "colab": {
          "base_uri": "https://localhost:8080/",
          "height": 206
        },
        "id": "yjhScex5Howv",
        "outputId": "8f566dbe-70e0-42c2-9fbe-3fce93612a18"
      },
      "execution_count": 35,
      "outputs": [
        {
          "output_type": "execute_result",
          "data": {
            "text/plain": [
              "       default       student  balance_Yes  income_Yes\n",
              "0   729.526495  44361.625074            0           0\n",
              "1   817.180407  12106.134700            0           1\n",
              "2  1073.549164  31767.138947            0           0\n",
              "3   529.250605  35704.493935            0           0\n",
              "4   785.655883  38463.495879            0           0"
            ],
            "text/html": [
              "\n",
              "  <div id=\"df-d811a035-2ccb-4015-8fa9-0a0926b63b4b\">\n",
              "    <div class=\"colab-df-container\">\n",
              "      <div>\n",
              "<style scoped>\n",
              "    .dataframe tbody tr th:only-of-type {\n",
              "        vertical-align: middle;\n",
              "    }\n",
              "\n",
              "    .dataframe tbody tr th {\n",
              "        vertical-align: top;\n",
              "    }\n",
              "\n",
              "    .dataframe thead th {\n",
              "        text-align: right;\n",
              "    }\n",
              "</style>\n",
              "<table border=\"1\" class=\"dataframe\">\n",
              "  <thead>\n",
              "    <tr style=\"text-align: right;\">\n",
              "      <th></th>\n",
              "      <th>default</th>\n",
              "      <th>student</th>\n",
              "      <th>balance_Yes</th>\n",
              "      <th>income_Yes</th>\n",
              "    </tr>\n",
              "  </thead>\n",
              "  <tbody>\n",
              "    <tr>\n",
              "      <th>0</th>\n",
              "      <td>729.526495</td>\n",
              "      <td>44361.625074</td>\n",
              "      <td>0</td>\n",
              "      <td>0</td>\n",
              "    </tr>\n",
              "    <tr>\n",
              "      <th>1</th>\n",
              "      <td>817.180407</td>\n",
              "      <td>12106.134700</td>\n",
              "      <td>0</td>\n",
              "      <td>1</td>\n",
              "    </tr>\n",
              "    <tr>\n",
              "      <th>2</th>\n",
              "      <td>1073.549164</td>\n",
              "      <td>31767.138947</td>\n",
              "      <td>0</td>\n",
              "      <td>0</td>\n",
              "    </tr>\n",
              "    <tr>\n",
              "      <th>3</th>\n",
              "      <td>529.250605</td>\n",
              "      <td>35704.493935</td>\n",
              "      <td>0</td>\n",
              "      <td>0</td>\n",
              "    </tr>\n",
              "    <tr>\n",
              "      <th>4</th>\n",
              "      <td>785.655883</td>\n",
              "      <td>38463.495879</td>\n",
              "      <td>0</td>\n",
              "      <td>0</td>\n",
              "    </tr>\n",
              "  </tbody>\n",
              "</table>\n",
              "</div>\n",
              "      <button class=\"colab-df-convert\" onclick=\"convertToInteractive('df-d811a035-2ccb-4015-8fa9-0a0926b63b4b')\"\n",
              "              title=\"Convert this dataframe to an interactive table.\"\n",
              "              style=\"display:none;\">\n",
              "        \n",
              "  <svg xmlns=\"http://www.w3.org/2000/svg\" height=\"24px\"viewBox=\"0 0 24 24\"\n",
              "       width=\"24px\">\n",
              "    <path d=\"M0 0h24v24H0V0z\" fill=\"none\"/>\n",
              "    <path d=\"M18.56 5.44l.94 2.06.94-2.06 2.06-.94-2.06-.94-.94-2.06-.94 2.06-2.06.94zm-11 1L8.5 8.5l.94-2.06 2.06-.94-2.06-.94L8.5 2.5l-.94 2.06-2.06.94zm10 10l.94 2.06.94-2.06 2.06-.94-2.06-.94-.94-2.06-.94 2.06-2.06.94z\"/><path d=\"M17.41 7.96l-1.37-1.37c-.4-.4-.92-.59-1.43-.59-.52 0-1.04.2-1.43.59L10.3 9.45l-7.72 7.72c-.78.78-.78 2.05 0 2.83L4 21.41c.39.39.9.59 1.41.59.51 0 1.02-.2 1.41-.59l7.78-7.78 2.81-2.81c.8-.78.8-2.07 0-2.86zM5.41 20L4 18.59l7.72-7.72 1.47 1.35L5.41 20z\"/>\n",
              "  </svg>\n",
              "      </button>\n",
              "      \n",
              "  <style>\n",
              "    .colab-df-container {\n",
              "      display:flex;\n",
              "      flex-wrap:wrap;\n",
              "      gap: 12px;\n",
              "    }\n",
              "\n",
              "    .colab-df-convert {\n",
              "      background-color: #E8F0FE;\n",
              "      border: none;\n",
              "      border-radius: 50%;\n",
              "      cursor: pointer;\n",
              "      display: none;\n",
              "      fill: #1967D2;\n",
              "      height: 32px;\n",
              "      padding: 0 0 0 0;\n",
              "      width: 32px;\n",
              "    }\n",
              "\n",
              "    .colab-df-convert:hover {\n",
              "      background-color: #E2EBFA;\n",
              "      box-shadow: 0px 1px 2px rgba(60, 64, 67, 0.3), 0px 1px 3px 1px rgba(60, 64, 67, 0.15);\n",
              "      fill: #174EA6;\n",
              "    }\n",
              "\n",
              "    [theme=dark] .colab-df-convert {\n",
              "      background-color: #3B4455;\n",
              "      fill: #D2E3FC;\n",
              "    }\n",
              "\n",
              "    [theme=dark] .colab-df-convert:hover {\n",
              "      background-color: #434B5C;\n",
              "      box-shadow: 0px 1px 3px 1px rgba(0, 0, 0, 0.15);\n",
              "      filter: drop-shadow(0px 1px 2px rgba(0, 0, 0, 0.3));\n",
              "      fill: #FFFFFF;\n",
              "    }\n",
              "  </style>\n",
              "\n",
              "      <script>\n",
              "        const buttonEl =\n",
              "          document.querySelector('#df-d811a035-2ccb-4015-8fa9-0a0926b63b4b button.colab-df-convert');\n",
              "        buttonEl.style.display =\n",
              "          google.colab.kernel.accessAllowed ? 'block' : 'none';\n",
              "\n",
              "        async function convertToInteractive(key) {\n",
              "          const element = document.querySelector('#df-d811a035-2ccb-4015-8fa9-0a0926b63b4b');\n",
              "          const dataTable =\n",
              "            await google.colab.kernel.invokeFunction('convertToInteractive',\n",
              "                                                     [key], {});\n",
              "          if (!dataTable) return;\n",
              "\n",
              "          const docLinkHtml = 'Like what you see? Visit the ' +\n",
              "            '<a target=\"_blank\" href=https://colab.research.google.com/notebooks/data_table.ipynb>data table notebook</a>'\n",
              "            + ' to learn more about interactive tables.';\n",
              "          element.innerHTML = '';\n",
              "          dataTable['output_type'] = 'display_data';\n",
              "          await google.colab.output.renderOutput(dataTable, element);\n",
              "          const docLink = document.createElement('div');\n",
              "          docLink.innerHTML = docLinkHtml;\n",
              "          element.appendChild(docLink);\n",
              "        }\n",
              "      </script>\n",
              "    </div>\n",
              "  </div>\n",
              "  "
            ]
          },
          "metadata": {},
          "execution_count": 35
        }
      ]
    },
    {
      "cell_type": "code",
      "source": [
        "df.columns = ['balance', 'income','default','student']"
      ],
      "metadata": {
        "id": "u716uhmZHqZu"
      },
      "execution_count": 36,
      "outputs": []
    },
    {
      "cell_type": "code",
      "source": [
        "df.head()"
      ],
      "metadata": {
        "colab": {
          "base_uri": "https://localhost:8080/",
          "height": 206
        },
        "id": "pQSf9vVsHvdy",
        "outputId": "7c82e9c0-2fe8-4d3a-f854-273368a8da2c"
      },
      "execution_count": 37,
      "outputs": [
        {
          "output_type": "execute_result",
          "data": {
            "text/plain": [
              "       balance        income  default  student\n",
              "0   729.526495  44361.625074        0        0\n",
              "1   817.180407  12106.134700        0        1\n",
              "2  1073.549164  31767.138947        0        0\n",
              "3   529.250605  35704.493935        0        0\n",
              "4   785.655883  38463.495879        0        0"
            ],
            "text/html": [
              "\n",
              "  <div id=\"df-9609507a-e074-4cc6-8f6e-110391fe4172\">\n",
              "    <div class=\"colab-df-container\">\n",
              "      <div>\n",
              "<style scoped>\n",
              "    .dataframe tbody tr th:only-of-type {\n",
              "        vertical-align: middle;\n",
              "    }\n",
              "\n",
              "    .dataframe tbody tr th {\n",
              "        vertical-align: top;\n",
              "    }\n",
              "\n",
              "    .dataframe thead th {\n",
              "        text-align: right;\n",
              "    }\n",
              "</style>\n",
              "<table border=\"1\" class=\"dataframe\">\n",
              "  <thead>\n",
              "    <tr style=\"text-align: right;\">\n",
              "      <th></th>\n",
              "      <th>balance</th>\n",
              "      <th>income</th>\n",
              "      <th>default</th>\n",
              "      <th>student</th>\n",
              "    </tr>\n",
              "  </thead>\n",
              "  <tbody>\n",
              "    <tr>\n",
              "      <th>0</th>\n",
              "      <td>729.526495</td>\n",
              "      <td>44361.625074</td>\n",
              "      <td>0</td>\n",
              "      <td>0</td>\n",
              "    </tr>\n",
              "    <tr>\n",
              "      <th>1</th>\n",
              "      <td>817.180407</td>\n",
              "      <td>12106.134700</td>\n",
              "      <td>0</td>\n",
              "      <td>1</td>\n",
              "    </tr>\n",
              "    <tr>\n",
              "      <th>2</th>\n",
              "      <td>1073.549164</td>\n",
              "      <td>31767.138947</td>\n",
              "      <td>0</td>\n",
              "      <td>0</td>\n",
              "    </tr>\n",
              "    <tr>\n",
              "      <th>3</th>\n",
              "      <td>529.250605</td>\n",
              "      <td>35704.493935</td>\n",
              "      <td>0</td>\n",
              "      <td>0</td>\n",
              "    </tr>\n",
              "    <tr>\n",
              "      <th>4</th>\n",
              "      <td>785.655883</td>\n",
              "      <td>38463.495879</td>\n",
              "      <td>0</td>\n",
              "      <td>0</td>\n",
              "    </tr>\n",
              "  </tbody>\n",
              "</table>\n",
              "</div>\n",
              "      <button class=\"colab-df-convert\" onclick=\"convertToInteractive('df-9609507a-e074-4cc6-8f6e-110391fe4172')\"\n",
              "              title=\"Convert this dataframe to an interactive table.\"\n",
              "              style=\"display:none;\">\n",
              "        \n",
              "  <svg xmlns=\"http://www.w3.org/2000/svg\" height=\"24px\"viewBox=\"0 0 24 24\"\n",
              "       width=\"24px\">\n",
              "    <path d=\"M0 0h24v24H0V0z\" fill=\"none\"/>\n",
              "    <path d=\"M18.56 5.44l.94 2.06.94-2.06 2.06-.94-2.06-.94-.94-2.06-.94 2.06-2.06.94zm-11 1L8.5 8.5l.94-2.06 2.06-.94-2.06-.94L8.5 2.5l-.94 2.06-2.06.94zm10 10l.94 2.06.94-2.06 2.06-.94-2.06-.94-.94-2.06-.94 2.06-2.06.94z\"/><path d=\"M17.41 7.96l-1.37-1.37c-.4-.4-.92-.59-1.43-.59-.52 0-1.04.2-1.43.59L10.3 9.45l-7.72 7.72c-.78.78-.78 2.05 0 2.83L4 21.41c.39.39.9.59 1.41.59.51 0 1.02-.2 1.41-.59l7.78-7.78 2.81-2.81c.8-.78.8-2.07 0-2.86zM5.41 20L4 18.59l7.72-7.72 1.47 1.35L5.41 20z\"/>\n",
              "  </svg>\n",
              "      </button>\n",
              "      \n",
              "  <style>\n",
              "    .colab-df-container {\n",
              "      display:flex;\n",
              "      flex-wrap:wrap;\n",
              "      gap: 12px;\n",
              "    }\n",
              "\n",
              "    .colab-df-convert {\n",
              "      background-color: #E8F0FE;\n",
              "      border: none;\n",
              "      border-radius: 50%;\n",
              "      cursor: pointer;\n",
              "      display: none;\n",
              "      fill: #1967D2;\n",
              "      height: 32px;\n",
              "      padding: 0 0 0 0;\n",
              "      width: 32px;\n",
              "    }\n",
              "\n",
              "    .colab-df-convert:hover {\n",
              "      background-color: #E2EBFA;\n",
              "      box-shadow: 0px 1px 2px rgba(60, 64, 67, 0.3), 0px 1px 3px 1px rgba(60, 64, 67, 0.15);\n",
              "      fill: #174EA6;\n",
              "    }\n",
              "\n",
              "    [theme=dark] .colab-df-convert {\n",
              "      background-color: #3B4455;\n",
              "      fill: #D2E3FC;\n",
              "    }\n",
              "\n",
              "    [theme=dark] .colab-df-convert:hover {\n",
              "      background-color: #434B5C;\n",
              "      box-shadow: 0px 1px 3px 1px rgba(0, 0, 0, 0.15);\n",
              "      filter: drop-shadow(0px 1px 2px rgba(0, 0, 0, 0.3));\n",
              "      fill: #FFFFFF;\n",
              "    }\n",
              "  </style>\n",
              "\n",
              "      <script>\n",
              "        const buttonEl =\n",
              "          document.querySelector('#df-9609507a-e074-4cc6-8f6e-110391fe4172 button.colab-df-convert');\n",
              "        buttonEl.style.display =\n",
              "          google.colab.kernel.accessAllowed ? 'block' : 'none';\n",
              "\n",
              "        async function convertToInteractive(key) {\n",
              "          const element = document.querySelector('#df-9609507a-e074-4cc6-8f6e-110391fe4172');\n",
              "          const dataTable =\n",
              "            await google.colab.kernel.invokeFunction('convertToInteractive',\n",
              "                                                     [key], {});\n",
              "          if (!dataTable) return;\n",
              "\n",
              "          const docLinkHtml = 'Like what you see? Visit the ' +\n",
              "            '<a target=\"_blank\" href=https://colab.research.google.com/notebooks/data_table.ipynb>data table notebook</a>'\n",
              "            + ' to learn more about interactive tables.';\n",
              "          element.innerHTML = '';\n",
              "          dataTable['output_type'] = 'display_data';\n",
              "          await google.colab.output.renderOutput(dataTable, element);\n",
              "          const docLink = document.createElement('div');\n",
              "          docLink.innerHTML = docLinkHtml;\n",
              "          element.appendChild(docLink);\n",
              "        }\n",
              "      </script>\n",
              "    </div>\n",
              "  </div>\n",
              "  "
            ]
          },
          "metadata": {},
          "execution_count": 37
        }
      ]
    },
    {
      "cell_type": "code",
      "source": [
        "from sklearn.model_selection import train_test_split"
      ],
      "metadata": {
        "id": "Fr-kBToYIIGW"
      },
      "execution_count": 38,
      "outputs": []
    },
    {
      "cell_type": "code",
      "source": [
        "X = df.drop('default' , axis = 1)\n",
        "y = df['default']"
      ],
      "metadata": {
        "id": "pu0-T1aEIj-9"
      },
      "execution_count": 39,
      "outputs": []
    },
    {
      "cell_type": "code",
      "source": [
        "X_train, X_test, y_train, y_test = train_test_split(X, y, test_size = 0.3, random_state=21, stratify = y)"
      ],
      "metadata": {
        "id": "YbWTf70SIvwz"
      },
      "execution_count": 40,
      "outputs": []
    },
    {
      "cell_type": "code",
      "source": [
        "print(X_train.shape)\n",
        "print(X_test.shape)"
      ],
      "metadata": {
        "colab": {
          "base_uri": "https://localhost:8080/"
        },
        "id": "FRjh-yzLJRK8",
        "outputId": "1e52ebca-343a-4ee8-e238-d03ea4c040f5"
      },
      "execution_count": 41,
      "outputs": [
        {
          "output_type": "stream",
          "name": "stdout",
          "text": [
            "(7000, 3)\n",
            "(3000, 3)\n"
          ]
        }
      ]
    },
    {
      "cell_type": "code",
      "source": [
        "print(\"Train Set\")\n",
        "print(y_train.value_counts(normalize=True).round(2))\n",
        "print(\"Test Set\")\n",
        "print(y_test.value_counts(normalize=True).round(2))"
      ],
      "metadata": {
        "colab": {
          "base_uri": "https://localhost:8080/"
        },
        "id": "SbLoexgwJacb",
        "outputId": "0fc1af73-99c4-46d4-ae89-14f66187bd61"
      },
      "execution_count": 49,
      "outputs": [
        {
          "output_type": "stream",
          "name": "stdout",
          "text": [
            "Train Set\n",
            "0    0.97\n",
            "1    0.03\n",
            "Name: default, dtype: float64\n",
            "Test Set\n",
            "0    0.97\n",
            "1    0.03\n",
            "Name: default, dtype: float64\n"
          ]
        }
      ]
    },
    {
      "cell_type": "code",
      "source": [
        "from imblearn.over_sampling import SMOTE\n",
        "sm = SMOTE(random_state=33, sampling_strategy = 0.75)\n",
        "X_res, y_res = sm.fit_resample(X_train, y_train)"
      ],
      "metadata": {
        "id": "6-vCuwoIJsSN"
      },
      "execution_count": 54,
      "outputs": []
    },
    {
      "cell_type": "code",
      "source": [
        "from sklearn.linear_model import LogisticRegression"
      ],
      "metadata": {
        "id": "Io2ca5tbK928"
      },
      "execution_count": 51,
      "outputs": []
    },
    {
      "cell_type": "code",
      "source": [
        " lr = LogisticRegression()"
      ],
      "metadata": {
        "id": "Ny_jgo6jLJYc"
      },
      "execution_count": 55,
      "outputs": []
    },
    {
      "cell_type": "code",
      "source": [
        "lr.fit(X_res,y_res)"
      ],
      "metadata": {
        "colab": {
          "base_uri": "https://localhost:8080/"
        },
        "id": "OM_HA5lkMd0w",
        "outputId": "7c17e06a-399d-4928-d799-79b5c5059f50"
      },
      "execution_count": 56,
      "outputs": [
        {
          "output_type": "execute_result",
          "data": {
            "text/plain": [
              "LogisticRegression()"
            ]
          },
          "metadata": {},
          "execution_count": 56
        }
      ]
    },
    {
      "cell_type": "code",
      "source": [
        "y_pred = lr.predict(X_test)"
      ],
      "metadata": {
        "id": "jf5NceQGM9Tm"
      },
      "execution_count": 60,
      "outputs": []
    },
    {
      "cell_type": "code",
      "source": [
        "from sklearn.metrics import confusion_matrix, classification_report"
      ],
      "metadata": {
        "id": "s0oalbTbMi_S"
      },
      "execution_count": 61,
      "outputs": []
    },
    {
      "cell_type": "code",
      "source": [
        "confusion_matrix(y_test, y_pred)"
      ],
      "metadata": {
        "colab": {
          "base_uri": "https://localhost:8080/"
        },
        "id": "A11F67O1Msms",
        "outputId": "8ab747df-f0a8-4ad3-a2ea-a57b71d2f5d0"
      },
      "execution_count": 62,
      "outputs": [
        {
          "output_type": "execute_result",
          "data": {
            "text/plain": [
              "array([[2589,  311],\n",
              "       [  25,   75]])"
            ]
          },
          "metadata": {},
          "execution_count": 62
        }
      ]
    },
    {
      "cell_type": "code",
      "source": [
        "True_Positive = TP = 2589\n",
        "False_Positive = FP = 311\n",
        "False_Negative = FN = 25\n",
        "True_Negative = TN = 75"
      ],
      "metadata": {
        "id": "9rlawyIOMzqI"
      },
      "execution_count": 63,
      "outputs": []
    },
    {
      "cell_type": "code",
      "source": [
        "Accuracy = Acc = (TP+TN)/(TP+FP+FN+TN)\n",
        "Accuracy"
      ],
      "metadata": {
        "colab": {
          "base_uri": "https://localhost:8080/"
        },
        "id": "gaLtMSiONugB",
        "outputId": "3739b44e-7370-4d38-e621-0f7b9c5a567d"
      },
      "execution_count": 77,
      "outputs": [
        {
          "output_type": "execute_result",
          "data": {
            "text/plain": [
              "0.888"
            ]
          },
          "metadata": {},
          "execution_count": 77
        }
      ]
    },
    {
      "cell_type": "code",
      "source": [
        "Accuracy*100"
      ],
      "metadata": {
        "colab": {
          "base_uri": "https://localhost:8080/"
        },
        "id": "Wmns91XiN6R2",
        "outputId": "8d93e65c-4ffd-4e67-e43b-8d527e26863c"
      },
      "execution_count": 67,
      "outputs": [
        {
          "output_type": "execute_result",
          "data": {
            "text/plain": [
              "88.8"
            ]
          },
          "metadata": {},
          "execution_count": 67
        }
      ]
    },
    {
      "cell_type": "markdown",
      "source": [
        "Accuracy of our model is 88.8 percent"
      ],
      "metadata": {
        "id": "t3xNPoaLOsSa"
      }
    },
    {
      "cell_type": "code",
      "source": [
        "Precision = TP/(TP+FP)\n",
        "Precision*100"
      ],
      "metadata": {
        "colab": {
          "base_uri": "https://localhost:8080/"
        },
        "id": "CUzJi04rPzDD",
        "outputId": "6de5c183-96c7-4f59-f8ef-66a87d0b0620"
      },
      "execution_count": 79,
      "outputs": [
        {
          "output_type": "execute_result",
          "data": {
            "text/plain": [
              "89.27586206896552"
            ]
          },
          "metadata": {},
          "execution_count": 79
        }
      ]
    },
    {
      "cell_type": "code",
      "source": [
        "Recall = TP/(TP+FN)\n",
        "Recall*100"
      ],
      "metadata": {
        "colab": {
          "base_uri": "https://localhost:8080/"
        },
        "id": "ntyRfQyXP5af",
        "outputId": "ac4d1338-f3cb-4802-d213-4ed7b3752a8d"
      },
      "execution_count": 80,
      "outputs": [
        {
          "output_type": "execute_result",
          "data": {
            "text/plain": [
              "99.04361132364194"
            ]
          },
          "metadata": {},
          "execution_count": 80
        }
      ]
    },
    {
      "cell_type": "code",
      "source": [
        "F1_Score = 2*(Precision*Recall)/Precision+Recall\n",
        "F1_Score"
      ],
      "metadata": {
        "colab": {
          "base_uri": "https://localhost:8080/"
        },
        "id": "Z4R8KwuwQqFD",
        "outputId": "2015fc97-8dcd-4944-f408-81779e9c12a5"
      },
      "execution_count": 76,
      "outputs": [
        {
          "output_type": "execute_result",
          "data": {
            "text/plain": [
              "2.971308339709258"
            ]
          },
          "metadata": {},
          "execution_count": 76
        }
      ]
    },
    {
      "cell_type": "code",
      "source": [],
      "metadata": {
        "id": "w8fg4gqsQ-9f"
      },
      "execution_count": null,
      "outputs": []
    }
  ]
}