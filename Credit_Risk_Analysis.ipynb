{
  "nbformat": 4,
  "nbformat_minor": 0,
  "metadata": {
    "colab": {
      "provenance": [],
      "collapsed_sections": [],
      "authorship_tag": "ABX9TyNk9M2QUJcTrRbu3cKX3bx5",
      "include_colab_link": true
    },
    "kernelspec": {
      "name": "python3",
      "display_name": "Python 3"
    },
    "language_info": {
      "name": "python"
    }
  },
  "cells": [
    {
      "cell_type": "markdown",
      "metadata": {
        "id": "view-in-github",
        "colab_type": "text"
      },
      "source": [
        "<a href=\"https://colab.research.google.com/github/SahilD95/Credit-Risk-Analysis/blob/main/Credit_Risk_Analysis.ipynb\" target=\"_parent\"><img src=\"https://colab.research.google.com/assets/colab-badge.svg\" alt=\"Open In Colab\"/></a>"
      ]
    },
    {
      "cell_type": "markdown",
      "source": [
        "![synergy-capital-credit-risk-analysis-and-underwriting.jpg](data:image/jpeg;base64,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)"
      ],
      "metadata": {
        "id": "ejtBx5H7PXRH"
      }
    },
    {
      "cell_type": "markdown",
      "source": [
        "**Business Problem:** Credit risk is the possibility of a loss resulting from a borrower's failure to repay a loan or meet contractual obligations. Traditionally, it refers to the risk that a lender may not receive the owed principal and interest, which results in an interruption of cash flows and increased costs for collection."
      ],
      "metadata": {
        "id": "-x3_npLcPe6T"
      }
    },
    {
      "cell_type": "markdown",
      "source": [
        "Importing Libraries"
      ],
      "metadata": {
        "id": "0gaFjIpUlKfW"
      }
    },
    {
      "cell_type": "code",
      "execution_count": 2,
      "metadata": {
        "id": "_YIy2AMzG2Y_"
      },
      "outputs": [],
      "source": [
        "import numpy as np\n",
        "import pandas as pd\n",
        "import matplotlib.pyplot as plt #visulaization liberary\n",
        "import seaborn as sns #advance visualization liberary\n",
        "import sklearn.metrics as metrics #logistic regression\n",
        "\n",
        "\n",
        "import warnings\n",
        "warnings.filterwarnings('ignore')"
      ]
    },
    {
      "cell_type": "markdown",
      "source": [
        "Importing drive "
      ],
      "metadata": {
        "id": "tIlG-RAmlo97"
      }
    },
    {
      "cell_type": "code",
      "source": [
        "from google.colab import drive\n",
        "drive.mount('/content/drive')"
      ],
      "metadata": {
        "colab": {
          "base_uri": "https://localhost:8080/"
        },
        "id": "_ezXqvZDG7dm",
        "outputId": "f395a081-f4a5-4604-904a-d9bd975742a5"
      },
      "execution_count": 3,
      "outputs": [
        {
          "output_type": "stream",
          "name": "stdout",
          "text": [
            "Mounted at /content/drive\n"
          ]
        }
      ]
    },
    {
      "cell_type": "code",
      "source": [
        "Default = df = pd.read_csv(\"/content/drive/MyDrive/credit_risk.csv\")\n",
        "df.head()"
      ],
      "metadata": {
        "colab": {
          "base_uri": "https://localhost:8080/",
          "height": 206
        },
        "id": "JuDlARe6G9FH",
        "outputId": "0f8f105a-0d82-4847-ab12-ae4eddd60b96"
      },
      "execution_count": 4,
      "outputs": [
        {
          "output_type": "execute_result",
          "data": {
            "text/plain": [
              "  default student      balance        income\n",
              "0      No      No   729.526495  44361.625074\n",
              "1      No     Yes   817.180407  12106.134700\n",
              "2      No      No  1073.549164  31767.138947\n",
              "3      No      No   529.250605  35704.493935\n",
              "4      No      No   785.655883  38463.495879"
            ],
            "text/html": [
              "\n",
              "  <div id=\"df-3c0d0cc8-d402-4258-bdf5-a4c24d2b46f2\">\n",
              "    <div class=\"colab-df-container\">\n",
              "      <div>\n",
              "<style scoped>\n",
              "    .dataframe tbody tr th:only-of-type {\n",
              "        vertical-align: middle;\n",
              "    }\n",
              "\n",
              "    .dataframe tbody tr th {\n",
              "        vertical-align: top;\n",
              "    }\n",
              "\n",
              "    .dataframe thead th {\n",
              "        text-align: right;\n",
              "    }\n",
              "</style>\n",
              "<table border=\"1\" class=\"dataframe\">\n",
              "  <thead>\n",
              "    <tr style=\"text-align: right;\">\n",
              "      <th></th>\n",
              "      <th>default</th>\n",
              "      <th>student</th>\n",
              "      <th>balance</th>\n",
              "      <th>income</th>\n",
              "    </tr>\n",
              "  </thead>\n",
              "  <tbody>\n",
              "    <tr>\n",
              "      <th>0</th>\n",
              "      <td>No</td>\n",
              "      <td>No</td>\n",
              "      <td>729.526495</td>\n",
              "      <td>44361.625074</td>\n",
              "    </tr>\n",
              "    <tr>\n",
              "      <th>1</th>\n",
              "      <td>No</td>\n",
              "      <td>Yes</td>\n",
              "      <td>817.180407</td>\n",
              "      <td>12106.134700</td>\n",
              "    </tr>\n",
              "    <tr>\n",
              "      <th>2</th>\n",
              "      <td>No</td>\n",
              "      <td>No</td>\n",
              "      <td>1073.549164</td>\n",
              "      <td>31767.138947</td>\n",
              "    </tr>\n",
              "    <tr>\n",
              "      <th>3</th>\n",
              "      <td>No</td>\n",
              "      <td>No</td>\n",
              "      <td>529.250605</td>\n",
              "      <td>35704.493935</td>\n",
              "    </tr>\n",
              "    <tr>\n",
              "      <th>4</th>\n",
              "      <td>No</td>\n",
              "      <td>No</td>\n",
              "      <td>785.655883</td>\n",
              "      <td>38463.495879</td>\n",
              "    </tr>\n",
              "  </tbody>\n",
              "</table>\n",
              "</div>\n",
              "      <button class=\"colab-df-convert\" onclick=\"convertToInteractive('df-3c0d0cc8-d402-4258-bdf5-a4c24d2b46f2')\"\n",
              "              title=\"Convert this dataframe to an interactive table.\"\n",
              "              style=\"display:none;\">\n",
              "        \n",
              "  <svg xmlns=\"http://www.w3.org/2000/svg\" height=\"24px\"viewBox=\"0 0 24 24\"\n",
              "       width=\"24px\">\n",
              "    <path d=\"M0 0h24v24H0V0z\" fill=\"none\"/>\n",
              "    <path d=\"M18.56 5.44l.94 2.06.94-2.06 2.06-.94-2.06-.94-.94-2.06-.94 2.06-2.06.94zm-11 1L8.5 8.5l.94-2.06 2.06-.94-2.06-.94L8.5 2.5l-.94 2.06-2.06.94zm10 10l.94 2.06.94-2.06 2.06-.94-2.06-.94-.94-2.06-.94 2.06-2.06.94z\"/><path d=\"M17.41 7.96l-1.37-1.37c-.4-.4-.92-.59-1.43-.59-.52 0-1.04.2-1.43.59L10.3 9.45l-7.72 7.72c-.78.78-.78 2.05 0 2.83L4 21.41c.39.39.9.59 1.41.59.51 0 1.02-.2 1.41-.59l7.78-7.78 2.81-2.81c.8-.78.8-2.07 0-2.86zM5.41 20L4 18.59l7.72-7.72 1.47 1.35L5.41 20z\"/>\n",
              "  </svg>\n",
              "      </button>\n",
              "      \n",
              "  <style>\n",
              "    .colab-df-container {\n",
              "      display:flex;\n",
              "      flex-wrap:wrap;\n",
              "      gap: 12px;\n",
              "    }\n",
              "\n",
              "    .colab-df-convert {\n",
              "      background-color: #E8F0FE;\n",
              "      border: none;\n",
              "      border-radius: 50%;\n",
              "      cursor: pointer;\n",
              "      display: none;\n",
              "      fill: #1967D2;\n",
              "      height: 32px;\n",
              "      padding: 0 0 0 0;\n",
              "      width: 32px;\n",
              "    }\n",
              "\n",
              "    .colab-df-convert:hover {\n",
              "      background-color: #E2EBFA;\n",
              "      box-shadow: 0px 1px 2px rgba(60, 64, 67, 0.3), 0px 1px 3px 1px rgba(60, 64, 67, 0.15);\n",
              "      fill: #174EA6;\n",
              "    }\n",
              "\n",
              "    [theme=dark] .colab-df-convert {\n",
              "      background-color: #3B4455;\n",
              "      fill: #D2E3FC;\n",
              "    }\n",
              "\n",
              "    [theme=dark] .colab-df-convert:hover {\n",
              "      background-color: #434B5C;\n",
              "      box-shadow: 0px 1px 3px 1px rgba(0, 0, 0, 0.15);\n",
              "      filter: drop-shadow(0px 1px 2px rgba(0, 0, 0, 0.3));\n",
              "      fill: #FFFFFF;\n",
              "    }\n",
              "  </style>\n",
              "\n",
              "      <script>\n",
              "        const buttonEl =\n",
              "          document.querySelector('#df-3c0d0cc8-d402-4258-bdf5-a4c24d2b46f2 button.colab-df-convert');\n",
              "        buttonEl.style.display =\n",
              "          google.colab.kernel.accessAllowed ? 'block' : 'none';\n",
              "\n",
              "        async function convertToInteractive(key) {\n",
              "          const element = document.querySelector('#df-3c0d0cc8-d402-4258-bdf5-a4c24d2b46f2');\n",
              "          const dataTable =\n",
              "            await google.colab.kernel.invokeFunction('convertToInteractive',\n",
              "                                                     [key], {});\n",
              "          if (!dataTable) return;\n",
              "\n",
              "          const docLinkHtml = 'Like what you see? Visit the ' +\n",
              "            '<a target=\"_blank\" href=https://colab.research.google.com/notebooks/data_table.ipynb>data table notebook</a>'\n",
              "            + ' to learn more about interactive tables.';\n",
              "          element.innerHTML = '';\n",
              "          dataTable['output_type'] = 'display_data';\n",
              "          await google.colab.output.renderOutput(dataTable, element);\n",
              "          const docLink = document.createElement('div');\n",
              "          docLink.innerHTML = docLinkHtml;\n",
              "          element.appendChild(docLink);\n",
              "        }\n",
              "      </script>\n",
              "    </div>\n",
              "  </div>\n",
              "  "
            ]
          },
          "metadata": {},
          "execution_count": 4
        }
      ]
    },
    {
      "cell_type": "code",
      "source": [
        "df.shape #rows,columns"
      ],
      "metadata": {
        "colab": {
          "base_uri": "https://localhost:8080/"
        },
        "id": "YZoOCNJ6G-0o",
        "outputId": "708702b4-2206-4856-db2e-b32ddff11cdb"
      },
      "execution_count": 5,
      "outputs": [
        {
          "output_type": "execute_result",
          "data": {
            "text/plain": [
              "(10000, 4)"
            ]
          },
          "metadata": {},
          "execution_count": 5
        }
      ]
    },
    {
      "cell_type": "markdown",
      "source": [
        "**EDA** "
      ],
      "metadata": {
        "id": "KLUtjwPKnRL8"
      }
    },
    {
      "cell_type": "markdown",
      "source": [
        "**Univariate Analysis** "
      ],
      "metadata": {
        "id": "9RqJhDHWoS3x"
      }
    },
    {
      "cell_type": "markdown",
      "source": [
        "BOX PLOT to check 5 point summary"
      ],
      "metadata": {
        "id": "aeW_vzTDnrEU"
      }
    },
    {
      "cell_type": "code",
      "source": [
        "plt.figure(figsize = (15,5))\n",
        "plt.subplot(1,2,1)\n",
        "sns.boxplot(y = df['balance'])\n",
        "\n",
        "plt.subplot(1,2,2)\n",
        "sns.boxplot(y = df['income'])\n",
        "plt.show()"
      ],
      "metadata": {
        "colab": {
          "base_uri": "https://localhost:8080/",
          "height": 303
        },
        "id": "mpnX9m0THAjH",
        "outputId": "2bba9795-bc33-4ad7-c895-07a930f0b970"
      },
      "execution_count": null,
      "outputs": [
        {
          "output_type": "display_data",
          "data": {
            "text/plain": [
              "<Figure size 1080x360 with 2 Axes>"
            ],
            "image/png": "[encoded data removed]"
          },
          "metadata": {}
        }
      ]
    },
    {
      "cell_type": "markdown",
      "source": [
        "COUNTPLOT"
      ],
      "metadata": {
        "id": "V0GoLmqtn_UW"
      }
    },
    {
      "cell_type": "code",
      "source": [
        "plt.figure(figsize=(15,5))\n",
        "plt.subplot(1,2,1)\n",
        "sns.countplot(y = df['student'])\n",
        "\n",
        "plt.subplot(1,2,2)\n",
        "sns.countplot(y = df['default'])\n",
        "plt.show()"
      ],
      "metadata": {
        "colab": {
          "base_uri": "https://localhost:8080/",
          "height": 339
        },
        "id": "3-cyYoGrHG2P",
        "outputId": "36adc289-f4b3-4496-f5a6-b29b15b06733"
      },
      "execution_count": null,
      "outputs": [
        {
          "output_type": "display_data",
          "data": {
            "text/plain": [
              "<Figure size 1080x360 with 2 Axes>"
            ],
            "image/png": "[encoded data removed]"
          },
          "metadata": {}
        }
      ]
    },
    {
      "cell_type": "code",
      "source": [
        "df['student'].value_counts()"
      ],
      "metadata": {
        "colab": {
          "base_uri": "https://localhost:8080/"
        },
        "id": "ITpkBepXHJSW",
        "outputId": "6682d6b8-0829-4691-d472-a5ce7ee53b4f"
      },
      "execution_count": null,
      "outputs": [
        {
          "output_type": "execute_result",
          "data": {
            "text/plain": [
              "No     7056\n",
              "Yes    2944\n",
              "Name: student, dtype: int64"
            ]
          },
          "metadata": {},
          "execution_count": 128
        }
      ]
    },
    {
      "cell_type": "code",
      "source": [
        "df['default'].value_counts()"
      ],
      "metadata": {
        "colab": {
          "base_uri": "https://localhost:8080/"
        },
        "id": "PWMfRa2JHLaJ",
        "outputId": "5621f4a0-71b5-4efa-827e-fbaa188b46a0"
      },
      "execution_count": null,
      "outputs": [
        {
          "output_type": "execute_result",
          "data": {
            "text/plain": [
              "No     9667\n",
              "Yes     333\n",
              "Name: default, dtype: int64"
            ]
          },
          "metadata": {},
          "execution_count": 129
        }
      ]
    },
    {
      "cell_type": "markdown",
      "source": [
        "Normalizating to see values in percentage"
      ],
      "metadata": {
        "id": "-FHjsmccoHYB"
      }
    },
    {
      "cell_type": "code",
      "source": [
        "df['student'].value_counts(normalize = True)"
      ],
      "metadata": {
        "colab": {
          "base_uri": "https://localhost:8080/"
        },
        "id": "zkMtD1wYHNGP",
        "outputId": "6a015a94-ba98-401a-f2f5-9510ad90897d"
      },
      "execution_count": null,
      "outputs": [
        {
          "output_type": "execute_result",
          "data": {
            "text/plain": [
              "No     0.7056\n",
              "Yes    0.2944\n",
              "Name: student, dtype: float64"
            ]
          },
          "metadata": {},
          "execution_count": 130
        }
      ]
    },
    {
      "cell_type": "code",
      "source": [
        "df['default'].value_counts(normalize = True)"
      ],
      "metadata": {
        "colab": {
          "base_uri": "https://localhost:8080/"
        },
        "id": "kUTsvlXQHOwB",
        "outputId": "2593b32d-2828-47d1-aa10-766d474fd016"
      },
      "execution_count": null,
      "outputs": [
        {
          "output_type": "execute_result",
          "data": {
            "text/plain": [
              "No     0.9667\n",
              "Yes    0.0333\n",
              "Name: default, dtype: float64"
            ]
          },
          "metadata": {},
          "execution_count": 131
        }
      ]
    },
    {
      "cell_type": "markdown",
      "source": [
        "**Bivaraint Analysis** "
      ],
      "metadata": {
        "id": "Z5usLr75oYob"
      }
    },
    {
      "cell_type": "code",
      "source": [
        "plt.figure(figsize=(15,5))\n",
        "plt.subplot(1,2,1)\n",
        "sns.boxplot(df['default'], df['balance'])\n",
        "\n",
        "plt.subplot(1,2,2)\n",
        "sns.boxplot(df['default'], df['income'])\n",
        "plt.show()"
      ],
      "metadata": {
        "colab": {
          "base_uri": "https://localhost:8080/",
          "height": 339
        },
        "id": "-23AHsZvHQSe",
        "outputId": "c2209174-207e-4e98-9ba8-500ab347b2df"
      },
      "execution_count": null,
      "outputs": [
        {
          "output_type": "display_data",
          "data": {
            "text/plain": [
              "<Figure size 1080x360 with 2 Axes>"
            ],
            "image/png": "[encoded data removed]"
          },
          "metadata": {}
        }
      ]
    },
    {
      "cell_type": "markdown",
      "source": [
        "Cross Tabulation between two catagoricals columns"
      ],
      "metadata": {
        "id": "fhCNIph5o1b7"
      }
    },
    {
      "cell_type": "code",
      "source": [
        "pd.crosstab(df['student'],df['default'], normalize = 'index').round(2)"
      ],
      "metadata": {
        "colab": {
          "base_uri": "https://localhost:8080/",
          "height": 143
        },
        "id": "cyk8UPf6HSMg",
        "outputId": "9cc1b015-381d-47cc-b4b9-8c8a435bdd99"
      },
      "execution_count": null,
      "outputs": [
        {
          "output_type": "execute_result",
          "data": {
            "text/plain": [
              "default    No   Yes\n",
              "student            \n",
              "No       0.97  0.03\n",
              "Yes      0.96  0.04"
            ],
            "text/html": [
              "\n",
              "  <div id=\"df-eefba775-d40d-46b4-abe2-9ae15780adf3\">\n",
              "    <div class=\"colab-df-container\">\n",
              "      <div>\n",
              "<style scoped>\n",
              "    .dataframe tbody tr th:only-of-type {\n",
              "        vertical-align: middle;\n",
              "    }\n",
              "\n",
              "    .dataframe tbody tr th {\n",
              "        vertical-align: top;\n",
              "    }\n",
              "\n",
              "    .dataframe thead th {\n",
              "        text-align: right;\n",
              "    }\n",
              "</style>\n",
              "<table border=\"1\" class=\"dataframe\">\n",
              "  <thead>\n",
              "    <tr style=\"text-align: right;\">\n",
              "      <th>default</th>\n",
              "      <th>No</th>\n",
              "      <th>Yes</th>\n",
              "    </tr>\n",
              "    <tr>\n",
              "      <th>student</th>\n",
              "      <th></th>\n",
              "      <th></th>\n",
              "    </tr>\n",
              "  </thead>\n",
              "  <tbody>\n",
              "    <tr>\n",
              "      <th>No</th>\n",
              "      <td>0.97</td>\n",
              "      <td>0.03</td>\n",
              "    </tr>\n",
              "    <tr>\n",
              "      <th>Yes</th>\n",
              "      <td>0.96</td>\n",
              "      <td>0.04</td>\n",
              "    </tr>\n",
              "  </tbody>\n",
              "</table>\n",
              "</div>\n",
              "      <button class=\"colab-df-convert\" onclick=\"convertToInteractive('df-eefba775-d40d-46b4-abe2-9ae15780adf3')\"\n",
              "              title=\"Convert this dataframe to an interactive table.\"\n",
              "              style=\"display:none;\">\n",
              "        \n",
              "  <svg xmlns=\"http://www.w3.org/2000/svg\" height=\"24px\"viewBox=\"0 0 24 24\"\n",
              "       width=\"24px\">\n",
              "    <path d=\"M0 0h24v24H0V0z\" fill=\"none\"/>\n",
              "    <path d=\"M18.56 5.44l.94 2.06.94-2.06 2.06-.94-2.06-.94-.94-2.06-.94 2.06-2.06.94zm-11 1L8.5 8.5l.94-2.06 2.06-.94-2.06-.94L8.5 2.5l-.94 2.06-2.06.94zm10 10l.94 2.06.94-2.06 2.06-.94-2.06-.94-.94-2.06-.94 2.06-2.06.94z\"/><path d=\"M17.41 7.96l-1.37-1.37c-.4-.4-.92-.59-1.43-.59-.52 0-1.04.2-1.43.59L10.3 9.45l-7.72 7.72c-.78.78-.78 2.05 0 2.83L4 21.41c.39.39.9.59 1.41.59.51 0 1.02-.2 1.41-.59l7.78-7.78 2.81-2.81c.8-.78.8-2.07 0-2.86zM5.41 20L4 18.59l7.72-7.72 1.47 1.35L5.41 20z\"/>\n",
              "  </svg>\n",
              "      </button>\n",
              "      \n",
              "  <style>\n",
              "    .colab-df-container {\n",
              "      display:flex;\n",
              "      flex-wrap:wrap;\n",
              "      gap: 12px;\n",
              "    }\n",
              "\n",
              "    .colab-df-convert {\n",
              "      background-color: #E8F0FE;\n",
              "      border: none;\n",
              "      border-radius: 50%;\n",
              "      cursor: pointer;\n",
              "      display: none;\n",
              "      fill: #1967D2;\n",
              "      height: 32px;\n",
              "      padding: 0 0 0 0;\n",
              "      width: 32px;\n",
              "    }\n",
              "\n",
              "    .colab-df-convert:hover {\n",
              "      background-color: #E2EBFA;\n",
              "      box-shadow: 0px 1px 2px rgba(60, 64, 67, 0.3), 0px 1px 3px 1px rgba(60, 64, 67, 0.15);\n",
              "      fill: #174EA6;\n",
              "    }\n",
              "\n",
              "    [theme=dark] .colab-df-convert {\n",
              "      background-color: #3B4455;\n",
              "      fill: #D2E3FC;\n",
              "    }\n",
              "\n",
              "    [theme=dark] .colab-df-convert:hover {\n",
              "      background-color: #434B5C;\n",
              "      box-shadow: 0px 1px 3px 1px rgba(0, 0, 0, 0.15);\n",
              "      filter: drop-shadow(0px 1px 2px rgba(0, 0, 0, 0.3));\n",
              "      fill: #FFFFFF;\n",
              "    }\n",
              "  </style>\n",
              "\n",
              "      <script>\n",
              "        const buttonEl =\n",
              "          document.querySelector('#df-eefba775-d40d-46b4-abe2-9ae15780adf3 button.colab-df-convert');\n",
              "        buttonEl.style.display =\n",
              "          google.colab.kernel.accessAllowed ? 'block' : 'none';\n",
              "\n",
              "        async function convertToInteractive(key) {\n",
              "          const element = document.querySelector('#df-eefba775-d40d-46b4-abe2-9ae15780adf3');\n",
              "          const dataTable =\n",
              "            await google.colab.kernel.invokeFunction('convertToInteractive',\n",
              "                                                     [key], {});\n",
              "          if (!dataTable) return;\n",
              "\n",
              "          const docLinkHtml = 'Like what you see? Visit the ' +\n",
              "            '<a target=\"_blank\" href=https://colab.research.google.com/notebooks/data_table.ipynb>data table notebook</a>'\n",
              "            + ' to learn more about interactive tables.';\n",
              "          element.innerHTML = '';\n",
              "          dataTable['output_type'] = 'display_data';\n",
              "          await google.colab.output.renderOutput(dataTable, element);\n",
              "          const docLink = document.createElement('div');\n",
              "          docLink.innerHTML = docLinkHtml;\n",
              "          element.appendChild(docLink);\n",
              "        }\n",
              "      </script>\n",
              "    </div>\n",
              "  </div>\n",
              "  "
            ]
          },
          "metadata": {},
          "execution_count": 133
        }
      ]
    },
    {
      "cell_type": "markdown",
      "source": [
        "Heat Map for numerical columns"
      ],
      "metadata": {
        "id": "mus3DaYipHSB"
      }
    },
    {
      "cell_type": "code",
      "source": [
        "sns.heatmap(df[['balance', 'income']].corr(), annot = True)"
      ],
      "metadata": {
        "colab": {
          "base_uri": "https://localhost:8080/",
          "height": 398
        },
        "id": "ldvh3BTTHUBs",
        "outputId": "1dbb9986-2c3e-4c44-8425-6dafaef7b3d3"
      },
      "execution_count": null,
      "outputs": [
        {
          "output_type": "execute_result",
          "data": {
            "text/plain": [
              "<matplotlib.axes._subplots.AxesSubplot at 0x7f5a3d3b7390>"
            ]
          },
          "metadata": {},
          "execution_count": 134
        },
        {
          "output_type": "display_data",
          "data": {
            "text/plain": [
              "<Figure size 576x432 with 2 Axes>"
            ],
            "image/png": "[encoded data removed]"
          },
          "metadata": {}
        }
      ]
    },
    {
      "cell_type": "markdown",
      "source": [
        "Conclusion: Not much corealtion between balance and income."
      ],
      "metadata": {
        "id": "_kTtMK69pOZc"
      }
    },
    {
      "cell_type": "markdown",
      "source": [
        "To check null values"
      ],
      "metadata": {
        "id": "WRwRGuWspVQh"
      }
    },
    {
      "cell_type": "code",
      "source": [
        "df.isnull().sum()"
      ],
      "metadata": {
        "colab": {
          "base_uri": "https://localhost:8080/"
        },
        "id": "MYO5ZdhFHVxp",
        "outputId": "cc3f373a-1e32-42a5-9e6f-b94dacac52b0"
      },
      "execution_count": null,
      "outputs": [
        {
          "output_type": "execute_result",
          "data": {
            "text/plain": [
              "default    0\n",
              "student    0\n",
              "balance    0\n",
              "income     0\n",
              "dtype: int64"
            ]
          },
          "metadata": {},
          "execution_count": 135
        }
      ]
    },
    {
      "cell_type": "markdown",
      "source": [
        "Checking the values of outliers"
      ],
      "metadata": {
        "id": "hQzMuyhHpk6C"
      }
    },
    {
      "cell_type": "code",
      "source": [
        "Q1, Q3 = df['balance'].quantile([0.25,0.75])\n",
        "IQR = Q3 - Q1\n",
        "LL = Q1 - 1.5*(IQR)\n",
        "UL = Q3 + 1.5*(IQR)"
      ],
      "metadata": {
        "id": "OVj3qScVHXgY"
      },
      "execution_count": null,
      "outputs": []
    },
    {
      "cell_type": "markdown",
      "source": [
        "Upper Limit"
      ],
      "metadata": {
        "id": "ha394YdApzxR"
      }
    },
    {
      "cell_type": "code",
      "source": [
        "UL"
      ],
      "metadata": {
        "colab": {
          "base_uri": "https://localhost:8080/"
        },
        "id": "F0fMSdJMHZLZ",
        "outputId": "6fb8b0b8-59a0-4d0b-ebc3-4875832d0fc8"
      },
      "execution_count": null,
      "outputs": [
        {
          "output_type": "execute_result",
          "data": {
            "text/plain": [
              "2193.174308607817"
            ]
          },
          "metadata": {},
          "execution_count": 137
        }
      ]
    },
    {
      "cell_type": "markdown",
      "source": [
        "To check values which are above Upper Limit"
      ],
      "metadata": {
        "id": "PCN5XLq4qDMT"
      }
    },
    {
      "cell_type": "code",
      "source": [
        "df1 = Default[Default['balance']>UL]"
      ],
      "metadata": {
        "id": "hsZWczkaHavN"
      },
      "execution_count": null,
      "outputs": []
    },
    {
      "cell_type": "code",
      "source": [
        "df1"
      ],
      "metadata": {
        "colab": {
          "base_uri": "https://localhost:8080/",
          "height": 1000
        },
        "id": "Vp4dOtF7HcZv",
        "outputId": "7076693b-926e-47e8-b000-7c23bfda42d1"
      },
      "execution_count": null,
      "outputs": [
        {
          "output_type": "execute_result",
          "data": {
            "text/plain": [
              "     default student      balance        income\n",
              "173      Yes     Yes  2205.799521  14271.492253\n",
              "1136     Yes      No  2499.016750  51504.293960\n",
              "1160     Yes     Yes  2502.684931  14947.519752\n",
              "1359     Yes      No  2220.966201  40725.096207\n",
              "1502     Yes     Yes  2332.878254  11770.234124\n",
              "1609     Yes     Yes  2269.946966  18021.105948\n",
              "2096     Yes     Yes  2261.848162  20030.165119\n",
              "2140      No     Yes  2308.893236  19110.266412\n",
              "2929     Yes     Yes  2387.314867  28296.914718\n",
              "3162     Yes     Yes  2415.316994  17429.503375\n",
              "3189     Yes      No  2228.472283  27438.348988\n",
              "3702      No     Yes  2370.463612  24251.958722\n",
              "3855     Yes     Yes  2321.882221  21331.314781\n",
              "3913     Yes     Yes  2334.123559  19335.889287\n",
              "3976      No     Yes  2388.174009   7832.135644\n",
              "4060     Yes     Yes  2216.017669  20911.695635\n",
              "4231     Yes     Yes  2291.617688  20837.209447\n",
              "4831      No     Yes  2216.329753  24737.081761\n",
              "5461     Yes     Yes  2247.421889  17926.723014\n",
              "6075     Yes      No  2413.319449  38540.572705\n",
              "6334     Yes      No  2343.797513  51095.293929\n",
              "6882     Yes     Yes  2287.173842  18692.144311\n",
              "7437     Yes     Yes  2461.506979  11878.557045\n",
              "7815     Yes     Yes  2578.469022  25706.647774\n",
              "8264     Yes      No  2236.764215  37113.883070\n",
              "8495     Yes     Yes  2654.322576  21930.388879\n",
              "8832     Yes     Yes  2207.599054  19780.763519\n",
              "8992     Yes     Yes  2352.054949  24067.548104\n",
              "9873      No      No  2391.007739  50302.909557\n",
              "9893     Yes      No  2288.408082  52043.569052\n",
              "9978     Yes      No  2202.462395  47287.257108"
            ],
            "text/html": [
              "\n",
              "  <div id=\"df-3603090c-9c30-47db-9b92-5c3dde2c9738\">\n",
              "    <div class=\"colab-df-container\">\n",
              "      <div>\n",
              "<style scoped>\n",
              "    .dataframe tbody tr th:only-of-type {\n",
              "        vertical-align: middle;\n",
              "    }\n",
              "\n",
              "    .dataframe tbody tr th {\n",
              "        vertical-align: top;\n",
              "    }\n",
              "\n",
              "    .dataframe thead th {\n",
              "        text-align: right;\n",
              "    }\n",
              "</style>\n",
              "<table border=\"1\" class=\"dataframe\">\n",
              "  <thead>\n",
              "    <tr style=\"text-align: right;\">\n",
              "      <th></th>\n",
              "      <th>default</th>\n",
              "      <th>student</th>\n",
              "      <th>balance</th>\n",
              "      <th>income</th>\n",
              "    </tr>\n",
              "  </thead>\n",
              "  <tbody>\n",
              "    <tr>\n",
              "      <th>173</th>\n",
              "      <td>Yes</td>\n",
              "      <td>Yes</td>\n",
              "      <td>2205.799521</td>\n",
              "      <td>14271.492253</td>\n",
              "    </tr>\n",
              "    <tr>\n",
              "      <th>1136</th>\n",
              "      <td>Yes</td>\n",
              "      <td>No</td>\n",
              "      <td>2499.016750</td>\n",
              "      <td>51504.293960</td>\n",
              "    </tr>\n",
              "    <tr>\n",
              "      <th>1160</th>\n",
              "      <td>Yes</td>\n",
              "      <td>Yes</td>\n",
              "      <td>2502.684931</td>\n",
              "      <td>14947.519752</td>\n",
              "    </tr>\n",
              "    <tr>\n",
              "      <th>1359</th>\n",
              "      <td>Yes</td>\n",
              "      <td>No</td>\n",
              "      <td>2220.966201</td>\n",
              "      <td>40725.096207</td>\n",
              "    </tr>\n",
              "    <tr>\n",
              "      <th>1502</th>\n",
              "      <td>Yes</td>\n",
              "      <td>Yes</td>\n",
              "      <td>2332.878254</td>\n",
              "      <td>11770.234124</td>\n",
              "    </tr>\n",
              "    <tr>\n",
              "      <th>1609</th>\n",
              "      <td>Yes</td>\n",
              "      <td>Yes</td>\n",
              "      <td>2269.946966</td>\n",
              "      <td>18021.105948</td>\n",
              "    </tr>\n",
              "    <tr>\n",
              "      <th>2096</th>\n",
              "      <td>Yes</td>\n",
              "      <td>Yes</td>\n",
              "      <td>2261.848162</td>\n",
              "      <td>20030.165119</td>\n",
              "    </tr>\n",
              "    <tr>\n",
              "      <th>2140</th>\n",
              "      <td>No</td>\n",
              "      <td>Yes</td>\n",
              "      <td>2308.893236</td>\n",
              "      <td>19110.266412</td>\n",
              "    </tr>\n",
              "    <tr>\n",
              "      <th>2929</th>\n",
              "      <td>Yes</td>\n",
              "      <td>Yes</td>\n",
              "      <td>2387.314867</td>\n",
              "      <td>28296.914718</td>\n",
              "    </tr>\n",
              "    <tr>\n",
              "      <th>3162</th>\n",
              "      <td>Yes</td>\n",
              "      <td>Yes</td>\n",
              "      <td>2415.316994</td>\n",
              "      <td>17429.503375</td>\n",
              "    </tr>\n",
              "    <tr>\n",
              "      <th>3189</th>\n",
              "      <td>Yes</td>\n",
              "      <td>No</td>\n",
              "      <td>2228.472283</td>\n",
              "      <td>27438.348988</td>\n",
              "    </tr>\n",
              "    <tr>\n",
              "      <th>3702</th>\n",
              "      <td>No</td>\n",
              "      <td>Yes</td>\n",
              "      <td>2370.463612</td>\n",
              "      <td>24251.958722</td>\n",
              "    </tr>\n",
              "    <tr>\n",
              "      <th>3855</th>\n",
              "      <td>Yes</td>\n",
              "      <td>Yes</td>\n",
              "      <td>2321.882221</td>\n",
              "      <td>21331.314781</td>\n",
              "    </tr>\n",
              "    <tr>\n",
              "      <th>3913</th>\n",
              "      <td>Yes</td>\n",
              "      <td>Yes</td>\n",
              "      <td>2334.123559</td>\n",
              "      <td>19335.889287</td>\n",
              "    </tr>\n",
              "    <tr>\n",
              "      <th>3976</th>\n",
              "      <td>No</td>\n",
              "      <td>Yes</td>\n",
              "      <td>2388.174009</td>\n",
              "      <td>7832.135644</td>\n",
              "    </tr>\n",
              "    <tr>\n",
              "      <th>4060</th>\n",
              "      <td>Yes</td>\n",
              "      <td>Yes</td>\n",
              "      <td>2216.017669</td>\n",
              "      <td>20911.695635</td>\n",
              "    </tr>\n",
              "    <tr>\n",
              "      <th>4231</th>\n",
              "      <td>Yes</td>\n",
              "      <td>Yes</td>\n",
              "      <td>2291.617688</td>\n",
              "      <td>20837.209447</td>\n",
              "    </tr>\n",
              "    <tr>\n",
              "      <th>4831</th>\n",
              "      <td>No</td>\n",
              "      <td>Yes</td>\n",
              "      <td>2216.329753</td>\n",
              "      <td>24737.081761</td>\n",
              "    </tr>\n",
              "    <tr>\n",
              "      <th>5461</th>\n",
              "      <td>Yes</td>\n",
              "      <td>Yes</td>\n",
              "      <td>2247.421889</td>\n",
              "      <td>17926.723014</td>\n",
              "    </tr>\n",
              "    <tr>\n",
              "      <th>6075</th>\n",
              "      <td>Yes</td>\n",
              "      <td>No</td>\n",
              "      <td>2413.319449</td>\n",
              "      <td>38540.572705</td>\n",
              "    </tr>\n",
              "    <tr>\n",
              "      <th>6334</th>\n",
              "      <td>Yes</td>\n",
              "      <td>No</td>\n",
              "      <td>2343.797513</td>\n",
              "      <td>51095.293929</td>\n",
              "    </tr>\n",
              "    <tr>\n",
              "      <th>6882</th>\n",
              "      <td>Yes</td>\n",
              "      <td>Yes</td>\n",
              "      <td>2287.173842</td>\n",
              "      <td>18692.144311</td>\n",
              "    </tr>\n",
              "    <tr>\n",
              "      <th>7437</th>\n",
              "      <td>Yes</td>\n",
              "      <td>Yes</td>\n",
              "      <td>2461.506979</td>\n",
              "      <td>11878.557045</td>\n",
              "    </tr>\n",
              "    <tr>\n",
              "      <th>7815</th>\n",
              "      <td>Yes</td>\n",
              "      <td>Yes</td>\n",
              "      <td>2578.469022</td>\n",
              "      <td>25706.647774</td>\n",
              "    </tr>\n",
              "    <tr>\n",
              "      <th>8264</th>\n",
              "      <td>Yes</td>\n",
              "      <td>No</td>\n",
              "      <td>2236.764215</td>\n",
              "      <td>37113.883070</td>\n",
              "    </tr>\n",
              "    <tr>\n",
              "      <th>8495</th>\n",
              "      <td>Yes</td>\n",
              "      <td>Yes</td>\n",
              "      <td>2654.322576</td>\n",
              "      <td>21930.388879</td>\n",
              "    </tr>\n",
              "    <tr>\n",
              "      <th>8832</th>\n",
              "      <td>Yes</td>\n",
              "      <td>Yes</td>\n",
              "      <td>2207.599054</td>\n",
              "      <td>19780.763519</td>\n",
              "    </tr>\n",
              "    <tr>\n",
              "      <th>8992</th>\n",
              "      <td>Yes</td>\n",
              "      <td>Yes</td>\n",
              "      <td>2352.054949</td>\n",
              "      <td>24067.548104</td>\n",
              "    </tr>\n",
              "    <tr>\n",
              "      <th>9873</th>\n",
              "      <td>No</td>\n",
              "      <td>No</td>\n",
              "      <td>2391.007739</td>\n",
              "      <td>50302.909557</td>\n",
              "    </tr>\n",
              "    <tr>\n",
              "      <th>9893</th>\n",
              "      <td>Yes</td>\n",
              "      <td>No</td>\n",
              "      <td>2288.408082</td>\n",
              "      <td>52043.569052</td>\n",
              "    </tr>\n",
              "    <tr>\n",
              "      <th>9978</th>\n",
              "      <td>Yes</td>\n",
              "      <td>No</td>\n",
              "      <td>2202.462395</td>\n",
              "      <td>47287.257108</td>\n",
              "    </tr>\n",
              "  </tbody>\n",
              "</table>\n",
              "</div>\n",
              "      <button class=\"colab-df-convert\" onclick=\"convertToInteractive('df-3603090c-9c30-47db-9b92-5c3dde2c9738')\"\n",
              "              title=\"Convert this dataframe to an interactive table.\"\n",
              "              style=\"display:none;\">\n",
              "        \n",
              "  <svg xmlns=\"http://www.w3.org/2000/svg\" height=\"24px\"viewBox=\"0 0 24 24\"\n",
              "       width=\"24px\">\n",
              "    <path d=\"M0 0h24v24H0V0z\" fill=\"none\"/>\n",
              "    <path d=\"M18.56 5.44l.94 2.06.94-2.06 2.06-.94-2.06-.94-.94-2.06-.94 2.06-2.06.94zm-11 1L8.5 8.5l.94-2.06 2.06-.94-2.06-.94L8.5 2.5l-.94 2.06-2.06.94zm10 10l.94 2.06.94-2.06 2.06-.94-2.06-.94-.94-2.06-.94 2.06-2.06.94z\"/><path d=\"M17.41 7.96l-1.37-1.37c-.4-.4-.92-.59-1.43-.59-.52 0-1.04.2-1.43.59L10.3 9.45l-7.72 7.72c-.78.78-.78 2.05 0 2.83L4 21.41c.39.39.9.59 1.41.59.51 0 1.02-.2 1.41-.59l7.78-7.78 2.81-2.81c.8-.78.8-2.07 0-2.86zM5.41 20L4 18.59l7.72-7.72 1.47 1.35L5.41 20z\"/>\n",
              "  </svg>\n",
              "      </button>\n",
              "      \n",
              "  <style>\n",
              "    .colab-df-container {\n",
              "      display:flex;\n",
              "      flex-wrap:wrap;\n",
              "      gap: 12px;\n",
              "    }\n",
              "\n",
              "    .colab-df-convert {\n",
              "      background-color: #E8F0FE;\n",
              "      border: none;\n",
              "      border-radius: 50%;\n",
              "      cursor: pointer;\n",
              "      display: none;\n",
              "      fill: #1967D2;\n",
              "      height: 32px;\n",
              "      padding: 0 0 0 0;\n",
              "      width: 32px;\n",
              "    }\n",
              "\n",
              "    .colab-df-convert:hover {\n",
              "      background-color: #E2EBFA;\n",
              "      box-shadow: 0px 1px 2px rgba(60, 64, 67, 0.3), 0px 1px 3px 1px rgba(60, 64, 67, 0.15);\n",
              "      fill: #174EA6;\n",
              "    }\n",
              "\n",
              "    [theme=dark] .colab-df-convert {\n",
              "      background-color: #3B4455;\n",
              "      fill: #D2E3FC;\n",
              "    }\n",
              "\n",
              "    [theme=dark] .colab-df-convert:hover {\n",
              "      background-color: #434B5C;\n",
              "      box-shadow: 0px 1px 3px 1px rgba(0, 0, 0, 0.15);\n",
              "      filter: drop-shadow(0px 1px 2px rgba(0, 0, 0, 0.3));\n",
              "      fill: #FFFFFF;\n",
              "    }\n",
              "  </style>\n",
              "\n",
              "      <script>\n",
              "        const buttonEl =\n",
              "          document.querySelector('#df-3603090c-9c30-47db-9b92-5c3dde2c9738 button.colab-df-convert');\n",
              "        buttonEl.style.display =\n",
              "          google.colab.kernel.accessAllowed ? 'block' : 'none';\n",
              "\n",
              "        async function convertToInteractive(key) {\n",
              "          const element = document.querySelector('#df-3603090c-9c30-47db-9b92-5c3dde2c9738');\n",
              "          const dataTable =\n",
              "            await google.colab.kernel.invokeFunction('convertToInteractive',\n",
              "                                                     [key], {});\n",
              "          if (!dataTable) return;\n",
              "\n",
              "          const docLinkHtml = 'Like what you see? Visit the ' +\n",
              "            '<a target=\"_blank\" href=https://colab.research.google.com/notebooks/data_table.ipynb>data table notebook</a>'\n",
              "            + ' to learn more about interactive tables.';\n",
              "          element.innerHTML = '';\n",
              "          dataTable['output_type'] = 'display_data';\n",
              "          await google.colab.output.renderOutput(dataTable, element);\n",
              "          const docLink = document.createElement('div');\n",
              "          docLink.innerHTML = docLinkHtml;\n",
              "          element.appendChild(docLink);\n",
              "        }\n",
              "      </script>\n",
              "    </div>\n",
              "  </div>\n",
              "  "
            ]
          },
          "metadata": {},
          "execution_count": 139
        }
      ]
    },
    {
      "cell_type": "code",
      "source": [
        "df1['default'].count()"
      ],
      "metadata": {
        "colab": {
          "base_uri": "https://localhost:8080/"
        },
        "id": "Z1Qf8CJyHd_7",
        "outputId": "3d1cf734-b1e5-4f83-f0c7-7bc5750bafe3"
      },
      "execution_count": null,
      "outputs": [
        {
          "output_type": "execute_result",
          "data": {
            "text/plain": [
              "31"
            ]
          },
          "metadata": {},
          "execution_count": 140
        }
      ]
    },
    {
      "cell_type": "markdown",
      "source": [
        "Checking defaulters in outliers"
      ],
      "metadata": {
        "id": "f8TSEzxJqMyP"
      }
    },
    {
      "cell_type": "code",
      "source": [
        "df1['default'].value_counts(normalize = True)"
      ],
      "metadata": {
        "colab": {
          "base_uri": "https://localhost:8080/"
        },
        "id": "niDcr5EEHgQC",
        "outputId": "9c16a022-b324-471c-871b-e8e79d6bba3f"
      },
      "execution_count": null,
      "outputs": [
        {
          "output_type": "execute_result",
          "data": {
            "text/plain": [
              "Yes    0.83871\n",
              "No     0.16129\n",
              "Name: default, dtype: float64"
            ]
          },
          "metadata": {},
          "execution_count": 141
        }
      ]
    },
    {
      "cell_type": "code",
      "source": [
        "df1['default'].value_counts()"
      ],
      "metadata": {
        "colab": {
          "base_uri": "https://localhost:8080/"
        },
        "id": "8Sf-JsfIHh4G",
        "outputId": "13aef3c2-5355-485f-83ce-84d4003a3502"
      },
      "execution_count": null,
      "outputs": [
        {
          "output_type": "execute_result",
          "data": {
            "text/plain": [
              "Yes    26\n",
              "No      5\n",
              "Name: default, dtype: int64"
            ]
          },
          "metadata": {},
          "execution_count": 142
        }
      ]
    },
    {
      "cell_type": "markdown",
      "source": [
        "We cannot remove outliers as there are 83% of defaulters are there"
      ],
      "metadata": {
        "id": "1o3smyC4qes6"
      }
    },
    {
      "cell_type": "markdown",
      "source": [
        "So, I am putting outliers equal to maximum values and storing values in balance columns"
      ],
      "metadata": {
        "id": "QZGdg3EJqq15"
      }
    },
    {
      "cell_type": "code",
      "source": [
        "df['balance'] = np.where(df['balance'] > UL, UL, df['balance'] )"
      ],
      "metadata": {
        "id": "K0OM5UjfHjTU"
      },
      "execution_count": null,
      "outputs": []
    },
    {
      "cell_type": "code",
      "source": [
        "sns.boxplot(y = df['balance'])\n",
        "plt.show()"
      ],
      "metadata": {
        "colab": {
          "base_uri": "https://localhost:8080/",
          "height": 357
        },
        "id": "AEds_5wcHlCB",
        "outputId": "b59abc72-eb56-4bd1-ee17-5593231be89c"
      },
      "execution_count": null,
      "outputs": [
        {
          "output_type": "display_data",
          "data": {
            "text/plain": [
              "<Figure size 576x432 with 1 Axes>"
            ],
            "image/png": "[encoded data removed]"
          },
          "metadata": {}
        }
      ]
    },
    {
      "cell_type": "markdown",
      "source": [
        "**Dummy Encoding** "
      ],
      "metadata": {
        "id": "sBFhhvb3q81L"
      }
    },
    {
      "cell_type": "code",
      "source": [
        "df = pd.get_dummies(df, drop_first = True)"
      ],
      "metadata": {
        "id": "ttrTeyGwHm6-"
      },
      "execution_count": null,
      "outputs": []
    },
    {
      "cell_type": "code",
      "source": [
        "df.head()"
      ],
      "metadata": {
        "colab": {
          "base_uri": "https://localhost:8080/",
          "height": 206
        },
        "id": "yjhScex5Howv",
        "outputId": "abcdd2a9-5266-47eb-dba8-896c9fd11b6d"
      },
      "execution_count": null,
      "outputs": [
        {
          "output_type": "execute_result",
          "data": {
            "text/plain": [
              "       balance        income  default_Yes  student_Yes\n",
              "0   729.526495  44361.625074            0            0\n",
              "1   817.180407  12106.134700            0            1\n",
              "2  1073.549164  31767.138947            0            0\n",
              "3   529.250605  35704.493935            0            0\n",
              "4   785.655883  38463.495879            0            0"
            ],
            "text/html": [
              "\n",
              "  <div id=\"df-e6847e92-922e-4dec-83a2-4043ac163da1\">\n",
              "    <div class=\"colab-df-container\">\n",
              "      <div>\n",
              "<style scoped>\n",
              "    .dataframe tbody tr th:only-of-type {\n",
              "        vertical-align: middle;\n",
              "    }\n",
              "\n",
              "    .dataframe tbody tr th {\n",
              "        vertical-align: top;\n",
              "    }\n",
              "\n",
              "    .dataframe thead th {\n",
              "        text-align: right;\n",
              "    }\n",
              "</style>\n",
              "<table border=\"1\" class=\"dataframe\">\n",
              "  <thead>\n",
              "    <tr style=\"text-align: right;\">\n",
              "      <th></th>\n",
              "      <th>balance</th>\n",
              "      <th>income</th>\n",
              "      <th>default_Yes</th>\n",
              "      <th>student_Yes</th>\n",
              "    </tr>\n",
              "  </thead>\n",
              "  <tbody>\n",
              "    <tr>\n",
              "      <th>0</th>\n",
              "      <td>729.526495</td>\n",
              "      <td>44361.625074</td>\n",
              "      <td>0</td>\n",
              "      <td>0</td>\n",
              "    </tr>\n",
              "    <tr>\n",
              "      <th>1</th>\n",
              "      <td>817.180407</td>\n",
              "      <td>12106.134700</td>\n",
              "      <td>0</td>\n",
              "      <td>1</td>\n",
              "    </tr>\n",
              "    <tr>\n",
              "      <th>2</th>\n",
              "      <td>1073.549164</td>\n",
              "      <td>31767.138947</td>\n",
              "      <td>0</td>\n",
              "      <td>0</td>\n",
              "    </tr>\n",
              "    <tr>\n",
              "      <th>3</th>\n",
              "      <td>529.250605</td>\n",
              "      <td>35704.493935</td>\n",
              "      <td>0</td>\n",
              "      <td>0</td>\n",
              "    </tr>\n",
              "    <tr>\n",
              "      <th>4</th>\n",
              "      <td>785.655883</td>\n",
              "      <td>38463.495879</td>\n",
              "      <td>0</td>\n",
              "      <td>0</td>\n",
              "    </tr>\n",
              "  </tbody>\n",
              "</table>\n",
              "</div>\n",
              "      <button class=\"colab-df-convert\" onclick=\"convertToInteractive('df-e6847e92-922e-4dec-83a2-4043ac163da1')\"\n",
              "              title=\"Convert this dataframe to an interactive table.\"\n",
              "              style=\"display:none;\">\n",
              "        \n",
              "  <svg xmlns=\"http://www.w3.org/2000/svg\" height=\"24px\"viewBox=\"0 0 24 24\"\n",
              "       width=\"24px\">\n",
              "    <path d=\"M0 0h24v24H0V0z\" fill=\"none\"/>\n",
              "    <path d=\"M18.56 5.44l.94 2.06.94-2.06 2.06-.94-2.06-.94-.94-2.06-.94 2.06-2.06.94zm-11 1L8.5 8.5l.94-2.06 2.06-.94-2.06-.94L8.5 2.5l-.94 2.06-2.06.94zm10 10l.94 2.06.94-2.06 2.06-.94-2.06-.94-.94-2.06-.94 2.06-2.06.94z\"/><path d=\"M17.41 7.96l-1.37-1.37c-.4-.4-.92-.59-1.43-.59-.52 0-1.04.2-1.43.59L10.3 9.45l-7.72 7.72c-.78.78-.78 2.05 0 2.83L4 21.41c.39.39.9.59 1.41.59.51 0 1.02-.2 1.41-.59l7.78-7.78 2.81-2.81c.8-.78.8-2.07 0-2.86zM5.41 20L4 18.59l7.72-7.72 1.47 1.35L5.41 20z\"/>\n",
              "  </svg>\n",
              "      </button>\n",
              "      \n",
              "  <style>\n",
              "    .colab-df-container {\n",
              "      display:flex;\n",
              "      flex-wrap:wrap;\n",
              "      gap: 12px;\n",
              "    }\n",
              "\n",
              "    .colab-df-convert {\n",
              "      background-color: #E8F0FE;\n",
              "      border: none;\n",
              "      border-radius: 50%;\n",
              "      cursor: pointer;\n",
              "      display: none;\n",
              "      fill: #1967D2;\n",
              "      height: 32px;\n",
              "      padding: 0 0 0 0;\n",
              "      width: 32px;\n",
              "    }\n",
              "\n",
              "    .colab-df-convert:hover {\n",
              "      background-color: #E2EBFA;\n",
              "      box-shadow: 0px 1px 2px rgba(60, 64, 67, 0.3), 0px 1px 3px 1px rgba(60, 64, 67, 0.15);\n",
              "      fill: #174EA6;\n",
              "    }\n",
              "\n",
              "    [theme=dark] .colab-df-convert {\n",
              "      background-color: #3B4455;\n",
              "      fill: #D2E3FC;\n",
              "    }\n",
              "\n",
              "    [theme=dark] .colab-df-convert:hover {\n",
              "      background-color: #434B5C;\n",
              "      box-shadow: 0px 1px 3px 1px rgba(0, 0, 0, 0.15);\n",
              "      filter: drop-shadow(0px 1px 2px rgba(0, 0, 0, 0.3));\n",
              "      fill: #FFFFFF;\n",
              "    }\n",
              "  </style>\n",
              "\n",
              "      <script>\n",
              "        const buttonEl =\n",
              "          document.querySelector('#df-e6847e92-922e-4dec-83a2-4043ac163da1 button.colab-df-convert');\n",
              "        buttonEl.style.display =\n",
              "          google.colab.kernel.accessAllowed ? 'block' : 'none';\n",
              "\n",
              "        async function convertToInteractive(key) {\n",
              "          const element = document.querySelector('#df-e6847e92-922e-4dec-83a2-4043ac163da1');\n",
              "          const dataTable =\n",
              "            await google.colab.kernel.invokeFunction('convertToInteractive',\n",
              "                                                     [key], {});\n",
              "          if (!dataTable) return;\n",
              "\n",
              "          const docLinkHtml = 'Like what you see? Visit the ' +\n",
              "            '<a target=\"_blank\" href=https://colab.research.google.com/notebooks/data_table.ipynb>data table notebook</a>'\n",
              "            + ' to learn more about interactive tables.';\n",
              "          element.innerHTML = '';\n",
              "          dataTable['output_type'] = 'display_data';\n",
              "          await google.colab.output.renderOutput(dataTable, element);\n",
              "          const docLink = document.createElement('div');\n",
              "          docLink.innerHTML = docLinkHtml;\n",
              "          element.appendChild(docLink);\n",
              "        }\n",
              "      </script>\n",
              "    </div>\n",
              "  </div>\n",
              "  "
            ]
          },
          "metadata": {},
          "execution_count": 146
        }
      ]
    },
    {
      "cell_type": "markdown",
      "source": [
        "Renaming Columns"
      ],
      "metadata": {
        "id": "fYbwnOwDrG8a"
      }
    },
    {
      "cell_type": "code",
      "source": [
        "df.columns = ['balance', 'income','default','student']"
      ],
      "metadata": {
        "id": "u716uhmZHqZu"
      },
      "execution_count": null,
      "outputs": []
    },
    {
      "cell_type": "code",
      "source": [
        "df.head()"
      ],
      "metadata": {
        "colab": {
          "base_uri": "https://localhost:8080/",
          "height": 206
        },
        "id": "pQSf9vVsHvdy",
        "outputId": "1e08ac14-e7b2-4215-ab98-0fad04527619"
      },
      "execution_count": null,
      "outputs": [
        {
          "output_type": "execute_result",
          "data": {
            "text/plain": [
              "       balance        income  default  student\n",
              "0   729.526495  44361.625074        0        0\n",
              "1   817.180407  12106.134700        0        1\n",
              "2  1073.549164  31767.138947        0        0\n",
              "3   529.250605  35704.493935        0        0\n",
              "4   785.655883  38463.495879        0        0"
            ],
            "text/html": [
              "\n",
              "  <div id=\"df-89506627-f57a-481e-ad91-7963475f5593\">\n",
              "    <div class=\"colab-df-container\">\n",
              "      <div>\n",
              "<style scoped>\n",
              "    .dataframe tbody tr th:only-of-type {\n",
              "        vertical-align: middle;\n",
              "    }\n",
              "\n",
              "    .dataframe tbody tr th {\n",
              "        vertical-align: top;\n",
              "    }\n",
              "\n",
              "    .dataframe thead th {\n",
              "        text-align: right;\n",
              "    }\n",
              "</style>\n",
              "<table border=\"1\" class=\"dataframe\">\n",
              "  <thead>\n",
              "    <tr style=\"text-align: right;\">\n",
              "      <th></th>\n",
              "      <th>balance</th>\n",
              "      <th>income</th>\n",
              "      <th>default</th>\n",
              "      <th>student</th>\n",
              "    </tr>\n",
              "  </thead>\n",
              "  <tbody>\n",
              "    <tr>\n",
              "      <th>0</th>\n",
              "      <td>729.526495</td>\n",
              "      <td>44361.625074</td>\n",
              "      <td>0</td>\n",
              "      <td>0</td>\n",
              "    </tr>\n",
              "    <tr>\n",
              "      <th>1</th>\n",
              "      <td>817.180407</td>\n",
              "      <td>12106.134700</td>\n",
              "      <td>0</td>\n",
              "      <td>1</td>\n",
              "    </tr>\n",
              "    <tr>\n",
              "      <th>2</th>\n",
              "      <td>1073.549164</td>\n",
              "      <td>31767.138947</td>\n",
              "      <td>0</td>\n",
              "      <td>0</td>\n",
              "    </tr>\n",
              "    <tr>\n",
              "      <th>3</th>\n",
              "      <td>529.250605</td>\n",
              "      <td>35704.493935</td>\n",
              "      <td>0</td>\n",
              "      <td>0</td>\n",
              "    </tr>\n",
              "    <tr>\n",
              "      <th>4</th>\n",
              "      <td>785.655883</td>\n",
              "      <td>38463.495879</td>\n",
              "      <td>0</td>\n",
              "      <td>0</td>\n",
              "    </tr>\n",
              "  </tbody>\n",
              "</table>\n",
              "</div>\n",
              "      <button class=\"colab-df-convert\" onclick=\"convertToInteractive('df-89506627-f57a-481e-ad91-7963475f5593')\"\n",
              "              title=\"Convert this dataframe to an interactive table.\"\n",
              "              style=\"display:none;\">\n",
              "        \n",
              "  <svg xmlns=\"http://www.w3.org/2000/svg\" height=\"24px\"viewBox=\"0 0 24 24\"\n",
              "       width=\"24px\">\n",
              "    <path d=\"M0 0h24v24H0V0z\" fill=\"none\"/>\n",
              "    <path d=\"M18.56 5.44l.94 2.06.94-2.06 2.06-.94-2.06-.94-.94-2.06-.94 2.06-2.06.94zm-11 1L8.5 8.5l.94-2.06 2.06-.94-2.06-.94L8.5 2.5l-.94 2.06-2.06.94zm10 10l.94 2.06.94-2.06 2.06-.94-2.06-.94-.94-2.06-.94 2.06-2.06.94z\"/><path d=\"M17.41 7.96l-1.37-1.37c-.4-.4-.92-.59-1.43-.59-.52 0-1.04.2-1.43.59L10.3 9.45l-7.72 7.72c-.78.78-.78 2.05 0 2.83L4 21.41c.39.39.9.59 1.41.59.51 0 1.02-.2 1.41-.59l7.78-7.78 2.81-2.81c.8-.78.8-2.07 0-2.86zM5.41 20L4 18.59l7.72-7.72 1.47 1.35L5.41 20z\"/>\n",
              "  </svg>\n",
              "      </button>\n",
              "      \n",
              "  <style>\n",
              "    .colab-df-container {\n",
              "      display:flex;\n",
              "      flex-wrap:wrap;\n",
              "      gap: 12px;\n",
              "    }\n",
              "\n",
              "    .colab-df-convert {\n",
              "      background-color: #E8F0FE;\n",
              "      border: none;\n",
              "      border-radius: 50%;\n",
              "      cursor: pointer;\n",
              "      display: none;\n",
              "      fill: #1967D2;\n",
              "      height: 32px;\n",
              "      padding: 0 0 0 0;\n",
              "      width: 32px;\n",
              "    }\n",
              "\n",
              "    .colab-df-convert:hover {\n",
              "      background-color: #E2EBFA;\n",
              "      box-shadow: 0px 1px 2px rgba(60, 64, 67, 0.3), 0px 1px 3px 1px rgba(60, 64, 67, 0.15);\n",
              "      fill: #174EA6;\n",
              "    }\n",
              "\n",
              "    [theme=dark] .colab-df-convert {\n",
              "      background-color: #3B4455;\n",
              "      fill: #D2E3FC;\n",
              "    }\n",
              "\n",
              "    [theme=dark] .colab-df-convert:hover {\n",
              "      background-color: #434B5C;\n",
              "      box-shadow: 0px 1px 3px 1px rgba(0, 0, 0, 0.15);\n",
              "      filter: drop-shadow(0px 1px 2px rgba(0, 0, 0, 0.3));\n",
              "      fill: #FFFFFF;\n",
              "    }\n",
              "  </style>\n",
              "\n",
              "      <script>\n",
              "        const buttonEl =\n",
              "          document.querySelector('#df-89506627-f57a-481e-ad91-7963475f5593 button.colab-df-convert');\n",
              "        buttonEl.style.display =\n",
              "          google.colab.kernel.accessAllowed ? 'block' : 'none';\n",
              "\n",
              "        async function convertToInteractive(key) {\n",
              "          const element = document.querySelector('#df-89506627-f57a-481e-ad91-7963475f5593');\n",
              "          const dataTable =\n",
              "            await google.colab.kernel.invokeFunction('convertToInteractive',\n",
              "                                                     [key], {});\n",
              "          if (!dataTable) return;\n",
              "\n",
              "          const docLinkHtml = 'Like what you see? Visit the ' +\n",
              "            '<a target=\"_blank\" href=https://colab.research.google.com/notebooks/data_table.ipynb>data table notebook</a>'\n",
              "            + ' to learn more about interactive tables.';\n",
              "          element.innerHTML = '';\n",
              "          dataTable['output_type'] = 'display_data';\n",
              "          await google.colab.output.renderOutput(dataTable, element);\n",
              "          const docLink = document.createElement('div');\n",
              "          docLink.innerHTML = docLinkHtml;\n",
              "          element.appendChild(docLink);\n",
              "        }\n",
              "      </script>\n",
              "    </div>\n",
              "  </div>\n",
              "  "
            ]
          },
          "metadata": {},
          "execution_count": 148
        }
      ]
    },
    {
      "cell_type": "markdown",
      "source": [
        "Splitting into Train and Test"
      ],
      "metadata": {
        "id": "YnQdXMcnrXZe"
      }
    },
    {
      "cell_type": "code",
      "source": [
        "from sklearn.model_selection import train_test_split"
      ],
      "metadata": {
        "id": "Fr-kBToYIIGW"
      },
      "execution_count": null,
      "outputs": []
    },
    {
      "cell_type": "markdown",
      "source": [
        "**X = Independent Varaible**  i.e (balance,income,student)\n",
        "\n",
        "**Y = Dependent Varaible**  (i.e Default(Whether a person is defaulter or not)"
      ],
      "metadata": {
        "id": "KDhsKOEUrgxw"
      }
    },
    {
      "cell_type": "code",
      "source": [
        "X = df.drop('default' , axis = 1)\n",
        "y = df['default']"
      ],
      "metadata": {
        "id": "pu0-T1aEIj-9"
      },
      "execution_count": null,
      "outputs": []
    },
    {
      "cell_type": "markdown",
      "source": [
        "Setting 30% as test size, using startifies because data is imbalance, so it will do startified sampling"
      ],
      "metadata": {
        "id": "n8DM0ZvxsBXf"
      }
    },
    {
      "cell_type": "code",
      "source": [
        "X_train, X_test, y_train, y_test = train_test_split(X, y, test_size = 0.3, random_state=21, stratify = y)"
      ],
      "metadata": {
        "id": "YbWTf70SIvwz"
      },
      "execution_count": null,
      "outputs": []
    },
    {
      "cell_type": "code",
      "source": [
        "print(X_train.shape)\n",
        "print(X_test.shape)"
      ],
      "metadata": {
        "colab": {
          "base_uri": "https://localhost:8080/"
        },
        "id": "FRjh-yzLJRK8",
        "outputId": "fb6c7141-28f4-45fa-a759-29d6a386c516"
      },
      "execution_count": null,
      "outputs": [
        {
          "output_type": "stream",
          "name": "stdout",
          "text": [
            "(7000, 3)\n",
            "(3000, 3)\n"
          ]
        }
      ]
    },
    {
      "cell_type": "code",
      "source": [
        "print(\"Train Set\")\n",
        "print(y_train.value_counts(normalize=True).round(2))\n",
        "print(\"Test Set\")\n",
        "print(y_test.value_counts(normalize=True).round(2))"
      ],
      "metadata": {
        "colab": {
          "base_uri": "https://localhost:8080/"
        },
        "id": "SbLoexgwJacb",
        "outputId": "a0450311-faac-4468-d1d8-57906c321183"
      },
      "execution_count": null,
      "outputs": [
        {
          "output_type": "stream",
          "name": "stdout",
          "text": [
            "Train Set\n",
            "0    0.97\n",
            "1    0.03\n",
            "Name: default, dtype: float64\n",
            "Test Set\n",
            "0    0.97\n",
            "1    0.03\n",
            "Name: default, dtype: float64\n"
          ]
        }
      ]
    },
    {
      "cell_type": "markdown",
      "source": [
        "**SMOTE** "
      ],
      "metadata": {
        "id": "H5zfyX1_vZPk"
      }
    },
    {
      "cell_type": "markdown",
      "source": [
        "As target variable is imbalace, so we use SMOTE here which means Synthetic Minority Oversampling Technique, putting 0.75 as sampling *strategy*"
      ],
      "metadata": {
        "id": "wnQlZsrvsg5G"
      }
    },
    {
      "cell_type": "code",
      "source": [
        "from imblearn.over_sampling import SMOTE\n",
        "sm = SMOTE(random_state=33, sampling_strategy = 0.75)\n",
        "X_res, y_res = sm.fit_resample(X_train, y_train)"
      ],
      "metadata": {
        "id": "6-vCuwoIJsSN"
      },
      "execution_count": null,
      "outputs": []
    },
    {
      "cell_type": "markdown",
      "source": [
        "**Logistic Regression** \n"
      ],
      "metadata": {
        "id": "d3Ox2_74sbqA"
      }
    },
    {
      "cell_type": "code",
      "source": [
        "from sklearn.linear_model import LogisticRegression"
      ],
      "metadata": {
        "id": "Io2ca5tbK928"
      },
      "execution_count": null,
      "outputs": []
    },
    {
      "cell_type": "code",
      "source": [
        " lr = LogisticRegression()"
      ],
      "metadata": {
        "id": "Ny_jgo6jLJYc"
      },
      "execution_count": null,
      "outputs": []
    },
    {
      "cell_type": "code",
      "source": [
        "lr.fit(X_res,y_res)"
      ],
      "metadata": {
        "colab": {
          "base_uri": "https://localhost:8080/"
        },
        "id": "OM_HA5lkMd0w",
        "outputId": "049f6174-83ba-4918-e123-fe689c09e6d6"
      },
      "execution_count": null,
      "outputs": [
        {
          "output_type": "execute_result",
          "data": {
            "text/plain": [
              "LogisticRegression()"
            ]
          },
          "metadata": {},
          "execution_count": 157
        }
      ]
    },
    {
      "cell_type": "code",
      "source": [
        "y_pred = lr.predict(X_test)"
      ],
      "metadata": {
        "id": "jf5NceQGM9Tm"
      },
      "execution_count": null,
      "outputs": []
    },
    {
      "cell_type": "code",
      "source": [
        "from sklearn.metrics import confusion_matrix, classification_report"
      ],
      "metadata": {
        "id": "s0oalbTbMi_S"
      },
      "execution_count": null,
      "outputs": []
    },
    {
      "cell_type": "code",
      "source": [
        "confusion_matrix(y_test, y_pred)"
      ],
      "metadata": {
        "colab": {
          "base_uri": "https://localhost:8080/"
        },
        "id": "A11F67O1Msms",
        "outputId": "7e758dfd-1407-4d21-969d-270223687331"
      },
      "execution_count": null,
      "outputs": [
        {
          "output_type": "execute_result",
          "data": {
            "text/plain": [
              "array([[2589,  311],\n",
              "       [  25,   75]])"
            ]
          },
          "metadata": {},
          "execution_count": 160
        }
      ]
    },
    {
      "cell_type": "code",
      "source": [
        "cm1=confusion_matrix(y_pred,y_test)\n",
        "sns.heatmap(cm1,annot=True)"
      ],
      "metadata": {
        "colab": {
          "base_uri": "https://localhost:8080/",
          "height": 394
        },
        "id": "kaWHQMR1kCgh",
        "outputId": "1f96798e-749b-494e-b087-6c872e22b164"
      },
      "execution_count": null,
      "outputs": [
        {
          "output_type": "execute_result",
          "data": {
            "text/plain": [
              "<matplotlib.axes._subplots.AxesSubplot at 0x7f5a3d33b810>"
            ]
          },
          "metadata": {},
          "execution_count": 161
        },
        {
          "output_type": "display_data",
          "data": {
            "text/plain": [
              "<Figure size 576x432 with 2 Axes>"
            ],
            "image/png": "[encoded data removed]"
          },
          "metadata": {}
        }
      ]
    },
    {
      "cell_type": "code",
      "source": [
        "True_Positive = TP_LR = 75\n",
        "False_Positive = FP = 311\n",
        "False_Negative = FN = 25\n",
        "True_Negative = TN = 2589"
      ],
      "metadata": {
        "id": "9rlawyIOMzqI"
      },
      "execution_count": null,
      "outputs": []
    },
    {
      "cell_type": "code",
      "source": [
        "Accuracy_LR = Acc = (TP_LR+TN_LR)/(TP_LR+FP_LR+FN_LR+TN_LR)\n",
        "Accuracy_LR"
      ],
      "metadata": {
        "colab": {
          "base_uri": "https://localhost:8080/"
        },
        "id": "gaLtMSiONugB",
        "outputId": "43d1b981-831f-4786-d24d-1e4bd24344b5"
      },
      "execution_count": null,
      "outputs": [
        {
          "output_type": "execute_result",
          "data": {
            "text/plain": [
              "0.888"
            ]
          },
          "metadata": {},
          "execution_count": 115
        }
      ]
    },
    {
      "cell_type": "code",
      "source": [
        "Accuracy_LR*100"
      ],
      "metadata": {
        "colab": {
          "base_uri": "https://localhost:8080/"
        },
        "id": "Wmns91XiN6R2",
        "outputId": "487b1bad-62b6-42db-ec43-877289f427a7"
      },
      "execution_count": null,
      "outputs": [
        {
          "output_type": "execute_result",
          "data": {
            "text/plain": [
              "88.8"
            ]
          },
          "metadata": {},
          "execution_count": 116
        }
      ]
    },
    {
      "cell_type": "markdown",
      "source": [
        "Accuracy of our model is 88.8 percent"
      ],
      "metadata": {
        "id": "t3xNPoaLOsSa"
      }
    },
    {
      "cell_type": "code",
      "source": [
        "Precision_LR= TP_LR/(TP_LR+FP_LR)\n",
        "Precision_LR*100"
      ],
      "metadata": {
        "colab": {
          "base_uri": "https://localhost:8080/"
        },
        "id": "CUzJi04rPzDD",
        "outputId": "c89cffae-2f6e-4902-f3dd-f01aaac335ae"
      },
      "execution_count": null,
      "outputs": [
        {
          "output_type": "execute_result",
          "data": {
            "text/plain": [
              "19.4300518134715"
            ]
          },
          "metadata": {},
          "execution_count": 117
        }
      ]
    },
    {
      "cell_type": "code",
      "source": [
        "Recall_LR = TP_LR/(TP_LR+FN_LR)\n",
        "Recall_LR*100"
      ],
      "metadata": {
        "colab": {
          "base_uri": "https://localhost:8080/"
        },
        "id": "ntyRfQyXP5af",
        "outputId": "fe844df4-a619-48f5-b9f9-1ba4345badcd"
      },
      "execution_count": null,
      "outputs": [
        {
          "output_type": "execute_result",
          "data": {
            "text/plain": [
              "75.0"
            ]
          },
          "metadata": {},
          "execution_count": 118
        }
      ]
    },
    {
      "cell_type": "code",
      "source": [
        "F1_Score_LR = 2*Precision_LR*Recall_LR/(Precision_LR+Recall_LR)\n",
        "F1_Score_LR*100"
      ],
      "metadata": {
        "colab": {
          "base_uri": "https://localhost:8080/"
        },
        "id": "0tO-MLihldZ7",
        "outputId": "eccd5530-2e98-4b31-c7d1-f8afd3f957f5"
      },
      "execution_count": null,
      "outputs": [
        {
          "output_type": "execute_result",
          "data": {
            "text/plain": [
              "30.864197530864196"
            ]
          },
          "metadata": {},
          "execution_count": 119
        }
      ]
    },
    {
      "cell_type": "markdown",
      "source": [
        "**Random Forest** "
      ],
      "metadata": {
        "id": "u1KNi1SPtSsl"
      }
    },
    {
      "cell_type": "code",
      "source": [
        "from sklearn.ensemble import RandomForestClassifier\n",
        "rfc=RandomForestClassifier(n_estimators=100)\n",
        "rfc"
      ],
      "metadata": {
        "colab": {
          "base_uri": "https://localhost:8080/"
        },
        "id": "eTxgr2p3mfTa",
        "outputId": "dada7928-92f2-4d59-89f0-1ab28084c022"
      },
      "execution_count": null,
      "outputs": [
        {
          "output_type": "execute_result",
          "data": {
            "text/plain": [
              "RandomForestClassifier()"
            ]
          },
          "metadata": {},
          "execution_count": 59
        }
      ]
    },
    {
      "cell_type": "code",
      "source": [
        "rfc.fit(X_train,y_train)"
      ],
      "metadata": {
        "colab": {
          "base_uri": "https://localhost:8080/"
        },
        "id": "k0AGBtS4mfQJ",
        "outputId": "5c011758-bd5b-4f8d-fdc7-ea4ce834ec30"
      },
      "execution_count": null,
      "outputs": [
        {
          "output_type": "execute_result",
          "data": {
            "text/plain": [
              "RandomForestClassifier()"
            ]
          },
          "metadata": {},
          "execution_count": 60
        }
      ]
    },
    {
      "cell_type": "code",
      "source": [
        "y_pred=rfc.predict(X_test)\n",
        "y_pred"
      ],
      "metadata": {
        "colab": {
          "base_uri": "https://localhost:8080/"
        },
        "id": "KfHqmcqPmfOF",
        "outputId": "c407ef61-3cc8-48dc-9df4-bc2d57659fe9"
      },
      "execution_count": null,
      "outputs": [
        {
          "output_type": "execute_result",
          "data": {
            "text/plain": [
              "array([0, 0, 0, ..., 0, 0, 0], dtype=uint8)"
            ]
          },
          "metadata": {},
          "execution_count": 61
        }
      ]
    },
    {
      "cell_type": "code",
      "source": [
        "confusion_matrix(y_test, y_pred)"
      ],
      "metadata": {
        "colab": {
          "base_uri": "https://localhost:8080/"
        },
        "id": "2U6UQdtqmfJc",
        "outputId": "98097fe7-f9b0-4085-fbcc-36e1d64eb808"
      },
      "execution_count": null,
      "outputs": [
        {
          "output_type": "execute_result",
          "data": {
            "text/plain": [
              "array([[2865,   35],\n",
              "       [  70,   30]])"
            ]
          },
          "metadata": {},
          "execution_count": 63
        }
      ]
    },
    {
      "cell_type": "code",
      "source": [
        "cm=confusion_matrix(y_pred,y_test)\n",
        "sns.heatmap(cm,annot=True)"
      ],
      "metadata": {
        "colab": {
          "base_uri": "https://localhost:8080/",
          "height": 394
        },
        "id": "MQmNwJzumfG5",
        "outputId": "92f8ff26-3d5f-4c92-c8ba-944b194d8c32"
      },
      "execution_count": null,
      "outputs": [
        {
          "output_type": "execute_result",
          "data": {
            "text/plain": [
              "<matplotlib.axes._subplots.AxesSubplot at 0x7f5a3d8a6950>"
            ]
          },
          "metadata": {},
          "execution_count": 64
        },
        {
          "output_type": "display_data",
          "data": {
            "text/plain": [
              "<Figure size 576x432 with 2 Axes>"
            ],
            "image/png": "[encoded data removed]"
          },
          "metadata": {}
        }
      ]
    },
    {
      "cell_type": "code",
      "source": [
        "TN_RF = 2865\n",
        "FP_RF = 70\n",
        "FN_RF = 35\n",
        "TP_RF = 30"
      ],
      "metadata": {
        "id": "pbD2G6XVmfEl"
      },
      "execution_count": null,
      "outputs": []
    },
    {
      "cell_type": "code",
      "source": [
        "Accuracy_RF = Acc_RF = (TP_RF+TN_RF)/(TP_RF+FP_RF+FN_RF+TN_RF)\n",
        "Accuracy_RF"
      ],
      "metadata": {
        "colab": {
          "base_uri": "https://localhost:8080/"
        },
        "id": "5dnG5FANmfBV",
        "outputId": "bc4982f2-926b-4977-f07e-437682475dd4"
      },
      "execution_count": null,
      "outputs": [
        {
          "output_type": "execute_result",
          "data": {
            "text/plain": [
              "0.965"
            ]
          },
          "metadata": {},
          "execution_count": 82
        }
      ]
    },
    {
      "cell_type": "code",
      "source": [
        "Accuracy_RF*100"
      ],
      "metadata": {
        "colab": {
          "base_uri": "https://localhost:8080/"
        },
        "id": "K2UctJ2Jme2L",
        "outputId": "7fd92af2-ef66-4e1f-e518-de1f6fa7d9d7"
      },
      "execution_count": null,
      "outputs": [
        {
          "output_type": "execute_result",
          "data": {
            "text/plain": [
              "96.5"
            ]
          },
          "metadata": {},
          "execution_count": 83
        }
      ]
    },
    {
      "cell_type": "code",
      "source": [
        "Precision_RF = Pre_RF = TP_RF/(TP_RF+FP_RF)\n",
        "Precision_RF*100"
      ],
      "metadata": {
        "colab": {
          "base_uri": "https://localhost:8080/"
        },
        "id": "G_AITgepoM6h",
        "outputId": "4c57eaf9-fe35-4c1c-edcc-8561e84ab6d8"
      },
      "execution_count": null,
      "outputs": [
        {
          "output_type": "execute_result",
          "data": {
            "text/plain": [
              "30.0"
            ]
          },
          "metadata": {},
          "execution_count": 80
        }
      ]
    },
    {
      "cell_type": "code",
      "source": [
        "Recall_RF = Rec_RF = TP_RF/(TP_RF+FN_RF)\n",
        "Recall_RF*100"
      ],
      "metadata": {
        "colab": {
          "base_uri": "https://localhost:8080/"
        },
        "id": "A4eU_lT4oM3J",
        "outputId": "7f9a01aa-78f8-42e2-be04-28be7c5ec886"
      },
      "execution_count": null,
      "outputs": [
        {
          "output_type": "execute_result",
          "data": {
            "text/plain": [
              "46.15384615384615"
            ]
          },
          "metadata": {},
          "execution_count": 79
        }
      ]
    },
    {
      "cell_type": "code",
      "source": [
        "F1_Score_RF = 2*Precision_RF*Recall_RF/(Precision_RF+Recall_RF)\n",
        "F1_Score_RF*100"
      ],
      "metadata": {
        "colab": {
          "base_uri": "https://localhost:8080/"
        },
        "id": "P6b_K3W6oMyy",
        "outputId": "de5c4c2d-1326-42f8-897b-400f63942f17"
      },
      "execution_count": null,
      "outputs": [
        {
          "output_type": "execute_result",
          "data": {
            "text/plain": [
              "36.36363636363637"
            ]
          },
          "metadata": {},
          "execution_count": 85
        }
      ]
    },
    {
      "cell_type": "markdown",
      "source": [
        "**Decision Tree** "
      ],
      "metadata": {
        "id": "GbqX7lJVs2a6"
      }
    },
    {
      "cell_type": "code",
      "source": [
        "from sklearn.tree import DecisionTreeClassifier"
      ],
      "metadata": {
        "id": "w8fg4gqsQ-9f"
      },
      "execution_count": null,
      "outputs": []
    },
    {
      "cell_type": "code",
      "source": [
        "dt= DecisionTreeClassifier(max_depth=5)\n",
        "dt"
      ],
      "metadata": {
        "colab": {
          "base_uri": "https://localhost:8080/"
        },
        "id": "lfnNc9lZjUhW",
        "outputId": "cd8ea625-8ea8-4ad9-8900-c334de93e011"
      },
      "execution_count": null,
      "outputs": [
        {
          "output_type": "execute_result",
          "data": {
            "text/plain": [
              "DecisionTreeClassifier(max_depth=5)"
            ]
          },
          "metadata": {},
          "execution_count": 95
        }
      ]
    },
    {
      "cell_type": "code",
      "source": [
        "dt.fit(X_train,y_train)"
      ],
      "metadata": {
        "colab": {
          "base_uri": "https://localhost:8080/"
        },
        "id": "zXHlUBbgrqe3",
        "outputId": "ea193d4e-a497-4e8d-c7f6-bc430674fe89"
      },
      "execution_count": null,
      "outputs": [
        {
          "output_type": "execute_result",
          "data": {
            "text/plain": [
              "DecisionTreeClassifier(max_depth=5)"
            ]
          },
          "metadata": {},
          "execution_count": 96
        }
      ]
    },
    {
      "cell_type": "code",
      "source": [
        "y_pred=dt.predict(X_test)\n",
        "y_pred"
      ],
      "metadata": {
        "colab": {
          "base_uri": "https://localhost:8080/"
        },
        "id": "V5phBDUftC3g",
        "outputId": "087a7811-5d72-4f8b-f17d-efe35e721700"
      },
      "execution_count": null,
      "outputs": [
        {
          "output_type": "execute_result",
          "data": {
            "text/plain": [
              "array([0, 0, 1, ..., 0, 0, 0], dtype=uint8)"
            ]
          },
          "metadata": {},
          "execution_count": 98
        }
      ]
    },
    {
      "cell_type": "code",
      "source": [
        "confusion_matrix(y_test, y_pred)"
      ],
      "metadata": {
        "colab": {
          "base_uri": "https://localhost:8080/"
        },
        "id": "7YY_i83PshNI",
        "outputId": "16181cd6-67a2-43f9-ba6e-4ab96ff377bc"
      },
      "execution_count": null,
      "outputs": [
        {
          "output_type": "execute_result",
          "data": {
            "text/plain": [
              "array([[2875,   25],\n",
              "       [  75,   25]])"
            ]
          },
          "metadata": {},
          "execution_count": 99
        }
      ]
    },
    {
      "cell_type": "code",
      "source": [
        "cm=confusion_matrix(y_pred,y_test)\n",
        "sns.heatmap(cm,annot=True)"
      ],
      "metadata": {
        "colab": {
          "base_uri": "https://localhost:8080/",
          "height": 394
        },
        "id": "5OScs90Xs4s0",
        "outputId": "8550b56a-c98b-449d-aad8-bf301cc80222"
      },
      "execution_count": null,
      "outputs": [
        {
          "output_type": "execute_result",
          "data": {
            "text/plain": [
              "<matplotlib.axes._subplots.AxesSubplot at 0x7f5a3d737110>"
            ]
          },
          "metadata": {},
          "execution_count": 100
        },
        {
          "output_type": "display_data",
          "data": {
            "text/plain": [
              "<Figure size 576x432 with 2 Axes>"
            ],
            "image/png": "[encoded data removed]"
          },
          "metadata": {}
        }
      ]
    },
    {
      "cell_type": "code",
      "source": [
        "TN_DT = 2875\n",
        "FP_DT = 75\n",
        "FN_DT = 25\n",
        "TP_DT = 25"
      ],
      "metadata": {
        "id": "J0ZX0rG-tmAx"
      },
      "execution_count": null,
      "outputs": []
    },
    {
      "cell_type": "code",
      "source": [
        "Accuracy_DT = Acc_DT = (TP_DT+TN_DT)/(TP_DT+FP_DT+FN_DT+TN_DT)\n",
        "Accuracy_DT*100"
      ],
      "metadata": {
        "colab": {
          "base_uri": "https://localhost:8080/"
        },
        "id": "hgoNHtKhtz6t",
        "outputId": "93542bf3-9b4c-40af-ca93-4df651cea018"
      },
      "execution_count": null,
      "outputs": [
        {
          "output_type": "execute_result",
          "data": {
            "text/plain": [
              "96.66666666666667"
            ]
          },
          "metadata": {},
          "execution_count": 171
        }
      ]
    },
    {
      "cell_type": "code",
      "source": [
        "Recall_DT = Rec_DT = TP_DT/(TP_DT+FN_DT)\n",
        "Recall_DT*100"
      ],
      "metadata": {
        "colab": {
          "base_uri": "https://localhost:8080/"
        },
        "id": "f5FQq04mvtGr",
        "outputId": "d97ccdb9-e636-40f3-f4f7-459bc298fafd"
      },
      "execution_count": null,
      "outputs": [
        {
          "output_type": "execute_result",
          "data": {
            "text/plain": [
              "50.0"
            ]
          },
          "metadata": {},
          "execution_count": 162
        }
      ]
    },
    {
      "cell_type": "code",
      "source": [
        "Precision_DT = Pre_DT = TP_DT/(TP_DT+FP_DT)\n",
        "Precision_DT*100"
      ],
      "metadata": {
        "colab": {
          "base_uri": "https://localhost:8080/"
        },
        "id": "KAV6-7zLvtDU",
        "outputId": "e5bab7bb-4f08-4730-99d7-c1b41f5d62c9"
      },
      "execution_count": null,
      "outputs": [
        {
          "output_type": "execute_result",
          "data": {
            "text/plain": [
              "25.0"
            ]
          },
          "metadata": {},
          "execution_count": 164
        }
      ]
    },
    {
      "cell_type": "code",
      "source": [
        "F1_Score_DT = 2*Precision_DT*Recall_DT/(Precision_DT+Recall_DT)\n",
        "F1_Score_DT*100"
      ],
      "metadata": {
        "colab": {
          "base_uri": "https://localhost:8080/"
        },
        "id": "fYa5SNJfvtBI",
        "outputId": "31094526-403f-4d70-d18f-ce7f47b72c5d"
      },
      "execution_count": null,
      "outputs": [
        {
          "output_type": "execute_result",
          "data": {
            "text/plain": [
              "33.33333333333333"
            ]
          },
          "metadata": {},
          "execution_count": 165
        }
      ]
    },
    {
      "cell_type": "markdown",
      "source": [
        "**KNN**"
      ],
      "metadata": {
        "id": "Ey-6U0sLLdNl"
      }
    },
    {
      "cell_type": "code",
      "source": [
        "from sklearn.neighbors import KNeighborsClassifier "
      ],
      "metadata": {
        "id": "Ek7HYonnuTAx"
      },
      "execution_count": null,
      "outputs": []
    },
    {
      "cell_type": "code",
      "source": [
        "KNN = KNeighborsClassifier(n_neighbors=7)\n",
        "KNN"
      ],
      "metadata": {
        "colab": {
          "base_uri": "https://localhost:8080/"
        },
        "id": "_cauf-0huaXS",
        "outputId": "441d03bb-d4b7-4357-a948-c888a779cbd7"
      },
      "execution_count": null,
      "outputs": [
        {
          "output_type": "execute_result",
          "data": {
            "text/plain": [
              "KNeighborsClassifier(n_neighbors=7)"
            ]
          },
          "metadata": {},
          "execution_count": 105
        }
      ]
    },
    {
      "cell_type": "code",
      "source": [
        "KNN.fit(X_train,y_train)"
      ],
      "metadata": {
        "colab": {
          "base_uri": "https://localhost:8080/"
        },
        "id": "sNV9aaEaukTP",
        "outputId": "ac4f48ac-119e-4d08-bce5-42f259f618a2"
      },
      "execution_count": null,
      "outputs": [
        {
          "output_type": "execute_result",
          "data": {
            "text/plain": [
              "KNeighborsClassifier(n_neighbors=7)"
            ]
          },
          "metadata": {},
          "execution_count": 106
        }
      ]
    },
    {
      "cell_type": "code",
      "source": [
        "y_pred=KNN.predict(X_test)\n",
        "y_pred"
      ],
      "metadata": {
        "colab": {
          "base_uri": "https://localhost:8080/"
        },
        "id": "PC6dzE6putfS",
        "outputId": "02dedd3f-5234-4b1a-a6d9-8f640b7ce8ac"
      },
      "execution_count": null,
      "outputs": [
        {
          "output_type": "execute_result",
          "data": {
            "text/plain": [
              "array([0, 0, 0, ..., 0, 0, 0], dtype=uint8)"
            ]
          },
          "metadata": {},
          "execution_count": 107
        }
      ]
    },
    {
      "cell_type": "code",
      "source": [
        "confusion_matrix(y_test, y_pred)"
      ],
      "metadata": {
        "colab": {
          "base_uri": "https://localhost:8080/"
        },
        "id": "FbBcdAl0uxCu",
        "outputId": "d7a9e23e-42c9-4cdf-8c9b-ba6adf9fe638"
      },
      "execution_count": null,
      "outputs": [
        {
          "output_type": "execute_result",
          "data": {
            "text/plain": [
              "array([[2896,    4],\n",
              "       [  88,   12]])"
            ]
          },
          "metadata": {},
          "execution_count": 108
        }
      ]
    },
    {
      "cell_type": "code",
      "source": [
        "cm=confusion_matrix(y_pred,y_test)\n",
        "sns.heatmap(cm,annot=True)"
      ],
      "metadata": {
        "colab": {
          "base_uri": "https://localhost:8080/",
          "height": 394
        },
        "id": "Nsq2T5aDu0_Y",
        "outputId": "09d7c4fc-64af-41c7-9552-16a92f1c00f5"
      },
      "execution_count": null,
      "outputs": [
        {
          "output_type": "execute_result",
          "data": {
            "text/plain": [
              "<matplotlib.axes._subplots.AxesSubplot at 0x7f5a3d666650>"
            ]
          },
          "metadata": {},
          "execution_count": 109
        },
        {
          "output_type": "display_data",
          "data": {
            "text/plain": [
              "<Figure size 576x432 with 2 Axes>"
            ],
            "image/png": "[encoded data removed]"
          },
          "metadata": {}
        }
      ]
    },
    {
      "cell_type": "code",
      "source": [
        "TN_KNN = 2896\n",
        "FP_KNN = 88\n",
        "FN_KNN = 4\n",
        "TP_KNN = 12"
      ],
      "metadata": {
        "id": "DT9FT4oCu4sS"
      },
      "execution_count": null,
      "outputs": []
    },
    {
      "cell_type": "code",
      "source": [
        "Accuracy_KNN = Acc_KNN = (TP_KNN+TN_KNN)/(TP_KNN+FP_KNN+FN_KNN+TN_KNN)\n",
        "Accuracy_KNN*100"
      ],
      "metadata": {
        "colab": {
          "base_uri": "https://localhost:8080/"
        },
        "id": "dtTRAlitvZMh",
        "outputId": "b15ed909-5f06-4973-da83-177b37aa4c88"
      },
      "execution_count": null,
      "outputs": [
        {
          "output_type": "execute_result",
          "data": {
            "text/plain": [
              "96.93333333333334"
            ]
          },
          "metadata": {},
          "execution_count": 172
        }
      ]
    },
    {
      "cell_type": "code",
      "source": [
        "Recall_KNN = Rec_KNN = TP_KNN/(TP_KNN+FN_KNN)\n",
        "Recall_KNN*100"
      ],
      "metadata": {
        "colab": {
          "base_uri": "https://localhost:8080/"
        },
        "id": "tDShFklZviXi",
        "outputId": "753f1716-8644-479c-adc7-e71acaa757c0"
      },
      "execution_count": null,
      "outputs": [
        {
          "output_type": "execute_result",
          "data": {
            "text/plain": [
              "75.0"
            ]
          },
          "metadata": {},
          "execution_count": 163
        }
      ]
    },
    {
      "cell_type": "code",
      "source": [
        "Precision_KNN = TP_KNN/(TP_KNN+FP_KNN)\n",
        "Precision_KNN*100"
      ],
      "metadata": {
        "colab": {
          "base_uri": "https://localhost:8080/"
        },
        "id": "R_iZs_lT0vOQ",
        "outputId": "da149137-5b6c-4640-a950-98ed70aaa9c7"
      },
      "execution_count": null,
      "outputs": [
        {
          "output_type": "execute_result",
          "data": {
            "text/plain": [
              "12.0"
            ]
          },
          "metadata": {},
          "execution_count": 166
        }
      ]
    },
    {
      "cell_type": "code",
      "source": [
        "F1_Score_KNN = 2*Precision_KNN*Recall_KNN/(Precision_KNN+Recall_KNN)\n",
        "F1_Score_KNN*100"
      ],
      "metadata": {
        "colab": {
          "base_uri": "https://localhost:8080/"
        },
        "id": "65Ar31GP1d_J",
        "outputId": "76e67d7a-9a08-4c93-e19c-156f8a496dd9"
      },
      "execution_count": null,
      "outputs": [
        {
          "output_type": "execute_result",
          "data": {
            "text/plain": [
              "20.689655172413794"
            ]
          },
          "metadata": {},
          "execution_count": 167
        }
      ]
    },
    {
      "cell_type": "code",
      "source": [
        "data = [['LR', 88.8,30.86], ['RF',96.5, 36.36], ['DT', 96.66,33.33],['KNN',96.93,20.68]]\n",
        "  \n",
        "Matrix = pd.DataFrame(data, columns=['Model', 'Acuuracy','F1 Score'])\n",
        "Matrix"
      ],
      "metadata": {
        "colab": {
          "base_uri": "https://localhost:8080/",
          "height": 175
        },
        "id": "Tj_d5GWx1pmV",
        "outputId": "b9fbabdd-90ae-4038-ff40-c3a3720e4a3a"
      },
      "execution_count": null,
      "outputs": [
        {
          "output_type": "execute_result",
          "data": {
            "text/plain": [
              "  Model  Acuuracy  F1 Score\n",
              "0    LR     88.80     30.86\n",
              "1    RF     96.50     36.36\n",
              "2    DT     96.66     33.33\n",
              "3   KNN     96.93     20.68"
            ],
            "text/html": [
              "\n",
              "  <div id=\"df-9e207547-4748-475a-ad33-69b7126dbb52\">\n",
              "    <div class=\"colab-df-container\">\n",
              "      <div>\n",
              "<style scoped>\n",
              "    .dataframe tbody tr th:only-of-type {\n",
              "        vertical-align: middle;\n",
              "    }\n",
              "\n",
              "    .dataframe tbody tr th {\n",
              "        vertical-align: top;\n",
              "    }\n",
              "\n",
              "    .dataframe thead th {\n",
              "        text-align: right;\n",
              "    }\n",
              "</style>\n",
              "<table border=\"1\" class=\"dataframe\">\n",
              "  <thead>\n",
              "    <tr style=\"text-align: right;\">\n",
              "      <th></th>\n",
              "      <th>Model</th>\n",
              "      <th>Acuuracy</th>\n",
              "      <th>F1 Score</th>\n",
              "    </tr>\n",
              "  </thead>\n",
              "  <tbody>\n",
              "    <tr>\n",
              "      <th>0</th>\n",
              "      <td>LR</td>\n",
              "      <td>88.80</td>\n",
              "      <td>30.86</td>\n",
              "    </tr>\n",
              "    <tr>\n",
              "      <th>1</th>\n",
              "      <td>RF</td>\n",
              "      <td>96.50</td>\n",
              "      <td>36.36</td>\n",
              "    </tr>\n",
              "    <tr>\n",
              "      <th>2</th>\n",
              "      <td>DT</td>\n",
              "      <td>96.66</td>\n",
              "      <td>33.33</td>\n",
              "    </tr>\n",
              "    <tr>\n",
              "      <th>3</th>\n",
              "      <td>KNN</td>\n",
              "      <td>96.93</td>\n",
              "      <td>20.68</td>\n",
              "    </tr>\n",
              "  </tbody>\n",
              "</table>\n",
              "</div>\n",
              "      <button class=\"colab-df-convert\" onclick=\"convertToInteractive('df-9e207547-4748-475a-ad33-69b7126dbb52')\"\n",
              "              title=\"Convert this dataframe to an interactive table.\"\n",
              "              style=\"display:none;\">\n",
              "        \n",
              "  <svg xmlns=\"http://www.w3.org/2000/svg\" height=\"24px\"viewBox=\"0 0 24 24\"\n",
              "       width=\"24px\">\n",
              "    <path d=\"M0 0h24v24H0V0z\" fill=\"none\"/>\n",
              "    <path d=\"M18.56 5.44l.94 2.06.94-2.06 2.06-.94-2.06-.94-.94-2.06-.94 2.06-2.06.94zm-11 1L8.5 8.5l.94-2.06 2.06-.94-2.06-.94L8.5 2.5l-.94 2.06-2.06.94zm10 10l.94 2.06.94-2.06 2.06-.94-2.06-.94-.94-2.06-.94 2.06-2.06.94z\"/><path d=\"M17.41 7.96l-1.37-1.37c-.4-.4-.92-.59-1.43-.59-.52 0-1.04.2-1.43.59L10.3 9.45l-7.72 7.72c-.78.78-.78 2.05 0 2.83L4 21.41c.39.39.9.59 1.41.59.51 0 1.02-.2 1.41-.59l7.78-7.78 2.81-2.81c.8-.78.8-2.07 0-2.86zM5.41 20L4 18.59l7.72-7.72 1.47 1.35L5.41 20z\"/>\n",
              "  </svg>\n",
              "      </button>\n",
              "      \n",
              "  <style>\n",
              "    .colab-df-container {\n",
              "      display:flex;\n",
              "      flex-wrap:wrap;\n",
              "      gap: 12px;\n",
              "    }\n",
              "\n",
              "    .colab-df-convert {\n",
              "      background-color: #E8F0FE;\n",
              "      border: none;\n",
              "      border-radius: 50%;\n",
              "      cursor: pointer;\n",
              "      display: none;\n",
              "      fill: #1967D2;\n",
              "      height: 32px;\n",
              "      padding: 0 0 0 0;\n",
              "      width: 32px;\n",
              "    }\n",
              "\n",
              "    .colab-df-convert:hover {\n",
              "      background-color: #E2EBFA;\n",
              "      box-shadow: 0px 1px 2px rgba(60, 64, 67, 0.3), 0px 1px 3px 1px rgba(60, 64, 67, 0.15);\n",
              "      fill: #174EA6;\n",
              "    }\n",
              "\n",
              "    [theme=dark] .colab-df-convert {\n",
              "      background-color: #3B4455;\n",
              "      fill: #D2E3FC;\n",
              "    }\n",
              "\n",
              "    [theme=dark] .colab-df-convert:hover {\n",
              "      background-color: #434B5C;\n",
              "      box-shadow: 0px 1px 3px 1px rgba(0, 0, 0, 0.15);\n",
              "      filter: drop-shadow(0px 1px 2px rgba(0, 0, 0, 0.3));\n",
              "      fill: #FFFFFF;\n",
              "    }\n",
              "  </style>\n",
              "\n",
              "      <script>\n",
              "        const buttonEl =\n",
              "          document.querySelector('#df-9e207547-4748-475a-ad33-69b7126dbb52 button.colab-df-convert');\n",
              "        buttonEl.style.display =\n",
              "          google.colab.kernel.accessAllowed ? 'block' : 'none';\n",
              "\n",
              "        async function convertToInteractive(key) {\n",
              "          const element = document.querySelector('#df-9e207547-4748-475a-ad33-69b7126dbb52');\n",
              "          const dataTable =\n",
              "            await google.colab.kernel.invokeFunction('convertToInteractive',\n",
              "                                                     [key], {});\n",
              "          if (!dataTable) return;\n",
              "\n",
              "          const docLinkHtml = 'Like what you see? Visit the ' +\n",
              "            '<a target=\"_blank\" href=https://colab.research.google.com/notebooks/data_table.ipynb>data table notebook</a>'\n",
              "            + ' to learn more about interactive tables.';\n",
              "          element.innerHTML = '';\n",
              "          dataTable['output_type'] = 'display_data';\n",
              "          await google.colab.output.renderOutput(dataTable, element);\n",
              "          const docLink = document.createElement('div');\n",
              "          docLink.innerHTML = docLinkHtml;\n",
              "          element.appendChild(docLink);\n",
              "        }\n",
              "      </script>\n",
              "    </div>\n",
              "  </div>\n",
              "  "
            ]
          },
          "metadata": {},
          "execution_count": 173
        }
      ]
    },
    {
      "cell_type": "markdown",
      "source": [
        "**Conclusion:** Random Forest is giving us high accuracy and f1 score compare to other models. Here, f1 score is below 50% so we can use other technique like Hyperparameter tuning, StandardScaler to improve it. As of now I am still learning those techniques."
      ],
      "metadata": {
        "id": "amQ9HOyC-Tt3"
      }
    },
    {
      "cell_type": "code",
      "source": [],
      "metadata": {
        "id": "aVcD7xJe8qZZ"
      },
      "execution_count": null,
      "outputs": []
    }
  ]
}